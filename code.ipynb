{
  "nbformat": 4,
  "nbformat_minor": 0,
  "metadata": {
    "colab": {
      "name": "CSC2515-1.ipynb",
      "provenance": [],
      "collapsed_sections": []
    },
    "kernelspec": {
      "display_name": "Python 3",
      "language": "python",
      "name": "python3"
    },
    "language_info": {
      "codemirror_mode": {
        "name": "ipython",
        "version": 3
      },
      "file_extension": ".py",
      "mimetype": "text/x-python",
      "name": "python",
      "nbconvert_exporter": "python",
      "pygments_lexer": "ipython3",
      "version": "3.5.2"
    }
  },
  "cells": [
    {
      "cell_type": "markdown",
      "metadata": {
        "id": "pvFRs66o9H0p"
      },
      "source": [
        "# PIPELINE"
      ]
    },
    {
      "cell_type": "markdown",
      "metadata": {
        "id": "Z2oXkFfPVehv"
      },
      "source": [
        ""
      ]
    },
    {
      "cell_type": "code",
      "metadata": {
        "colab": {
          "base_uri": "https://localhost:8080/"
        },
        "id": "FgdBUideDqn_",
        "outputId": "77fc58d3-0154-4d82-8a34-612710094e2b"
      },
      "source": [
        "from google.colab import drive\n",
        "drive.mount('/content/drive')"
      ],
      "execution_count": 1,
      "outputs": [
        {
          "output_type": "stream",
          "text": [
            "Mounted at /content/drive\n"
          ],
          "name": "stdout"
        }
      ]
    },
    {
      "cell_type": "code",
      "metadata": {
        "colab": {
          "base_uri": "https://localhost:8080/"
        },
        "id": "KMYyphAJ9W-G",
        "outputId": "83a801e5-0931-4dba-8e4d-42cf77c014ae"
      },
      "source": [
        "cd /content/drive/MyDrive/Colab Notebooks"
      ],
      "execution_count": 2,
      "outputs": [
        {
          "output_type": "stream",
          "text": [
            "/content/drive/MyDrive/Colab Notebooks\n"
          ],
          "name": "stdout"
        }
      ]
    },
    {
      "cell_type": "code",
      "metadata": {
        "id": "pXsnIhiM9H0p"
      },
      "source": [
        "import json\n",
        "import pandas as pd\n",
        "from sklearn.feature_extraction.text import CountVectorizer\n",
        "from sklearn.metrics.pairwise import cosine_similarity\n",
        "from sklearn.preprocessing import FunctionTransformer\n",
        "from sklearn.pipeline import FeatureUnion\n",
        "from sklearn.pipeline import Pipeline\n",
        "from sklearn.feature_extraction.text import CountVectorizer\n",
        "from sklearn.linear_model import LinearRegression\n",
        "from sklearn.preprocessing import StandardScaler\n",
        "from sklearn.impute import SimpleImputer\n",
        "\n",
        "from sklearn.model_selection import train_test_split\n",
        "import numpy as np\n",
        "\n",
        "#reading train dataset with pandas\n",
        "train_set = pd.read_json('train.json', lines = True)\n"
      ],
      "execution_count": 3,
      "outputs": []
    },
    {
      "cell_type": "code",
      "metadata": {
        "colab": {
          "base_uri": "https://localhost:8080/"
        },
        "id": "00-CTM90LwiJ",
        "outputId": "3f4ddb1d-369a-4542-a8cb-80c0254bf840"
      },
      "source": [
        "#general overview of what's included in data\n",
        "train_set.info()"
      ],
      "execution_count": null,
      "outputs": [
        {
          "output_type": "stream",
          "text": [
            "<class 'pandas.core.frame.DataFrame'>\n",
            "RangeIndex: 200000 entries, 0 to 199999\n",
            "Data columns (total 11 columns):\n",
            " #   Column          Non-Null Count   Dtype \n",
            "---  ------          --------------   ----- \n",
            " 0   overall         200000 non-null  int64 \n",
            " 1   reviewTime      200000 non-null  object\n",
            " 2   reviewerID      200000 non-null  object\n",
            " 3   reviewText      199964 non-null  object\n",
            " 4   summary         199965 non-null  object\n",
            " 5   unixReviewTime  200000 non-null  int64 \n",
            " 6   category        200000 non-null  object\n",
            " 7   price           200000 non-null  object\n",
            " 8   itemID          200000 non-null  object\n",
            " 9   reviewHash      200000 non-null  int64 \n",
            " 10  image           463 non-null     object\n",
            "dtypes: int64(3), object(8)\n",
            "memory usage: 16.8+ MB\n"
          ],
          "name": "stdout"
        }
      ]
    },
    {
      "cell_type": "code",
      "metadata": {
        "colab": {
          "base_uri": "https://localhost:8080/",
          "height": 142
        },
        "id": "TvaWtCZRL0ui",
        "outputId": "de10dfd6-2741-468c-840d-c7736c4cc0f4"
      },
      "source": [
        "#correlation between existing numeric data\n",
        "train_set.corr()"
      ],
      "execution_count": null,
      "outputs": [
        {
          "output_type": "execute_result",
          "data": {
            "text/html": [
              "<div>\n",
              "<style scoped>\n",
              "    .dataframe tbody tr th:only-of-type {\n",
              "        vertical-align: middle;\n",
              "    }\n",
              "\n",
              "    .dataframe tbody tr th {\n",
              "        vertical-align: top;\n",
              "    }\n",
              "\n",
              "    .dataframe thead th {\n",
              "        text-align: right;\n",
              "    }\n",
              "</style>\n",
              "<table border=\"1\" class=\"dataframe\">\n",
              "  <thead>\n",
              "    <tr style=\"text-align: right;\">\n",
              "      <th></th>\n",
              "      <th>overall</th>\n",
              "      <th>unixReviewTime</th>\n",
              "      <th>reviewHash</th>\n",
              "    </tr>\n",
              "  </thead>\n",
              "  <tbody>\n",
              "    <tr>\n",
              "      <th>overall</th>\n",
              "      <td>1.000000</td>\n",
              "      <td>0.152922</td>\n",
              "      <td>0.004677</td>\n",
              "    </tr>\n",
              "    <tr>\n",
              "      <th>unixReviewTime</th>\n",
              "      <td>0.152922</td>\n",
              "      <td>1.000000</td>\n",
              "      <td>-0.002027</td>\n",
              "    </tr>\n",
              "    <tr>\n",
              "      <th>reviewHash</th>\n",
              "      <td>0.004677</td>\n",
              "      <td>-0.002027</td>\n",
              "      <td>1.000000</td>\n",
              "    </tr>\n",
              "  </tbody>\n",
              "</table>\n",
              "</div>"
            ],
            "text/plain": [
              "                 overall  unixReviewTime  reviewHash\n",
              "overall         1.000000        0.152922    0.004677\n",
              "unixReviewTime  0.152922        1.000000   -0.002027\n",
              "reviewHash      0.004677       -0.002027    1.000000"
            ]
          },
          "metadata": {
            "tags": []
          },
          "execution_count": 5
        }
      ]
    },
    {
      "cell_type": "code",
      "metadata": {
        "colab": {
          "base_uri": "https://localhost:8080/"
        },
        "id": "P7zW6nPqLgpw",
        "outputId": "a268e47b-6704-4c61-c59f-0685a71be538"
      },
      "source": [
        "#look at reviewhash\n",
        "train_set.reviewHash.describe()"
      ],
      "execution_count": null,
      "outputs": [
        {
          "output_type": "execute_result",
          "data": {
            "text/plain": [
              "count    2.000000e+05\n",
              "mean     5.008838e+07\n",
              "std      2.888457e+07\n",
              "min      1.270000e+02\n",
              "25%      2.510758e+07\n",
              "50%      5.012905e+07\n",
              "75%      7.504490e+07\n",
              "max      9.999948e+07\n",
              "Name: reviewHash, dtype: float64"
            ]
          },
          "metadata": {
            "tags": []
          },
          "execution_count": 6
        }
      ]
    },
    {
      "cell_type": "code",
      "metadata": {
        "colab": {
          "base_uri": "https://localhost:8080/",
          "height": 878
        },
        "id": "cUpxSmP8T6H7",
        "outputId": "64146ca1-1283-4a66-df33-ce33c696c1bf"
      },
      "source": [
        "#look at what data is in train_set\n",
        "train_set"
      ],
      "execution_count": null,
      "outputs": [
        {
          "output_type": "execute_result",
          "data": {
            "text/html": [
              "<div>\n",
              "<style scoped>\n",
              "    .dataframe tbody tr th:only-of-type {\n",
              "        vertical-align: middle;\n",
              "    }\n",
              "\n",
              "    .dataframe tbody tr th {\n",
              "        vertical-align: top;\n",
              "    }\n",
              "\n",
              "    .dataframe thead th {\n",
              "        text-align: right;\n",
              "    }\n",
              "</style>\n",
              "<table border=\"1\" class=\"dataframe\">\n",
              "  <thead>\n",
              "    <tr style=\"text-align: right;\">\n",
              "      <th></th>\n",
              "      <th>overall</th>\n",
              "      <th>reviewTime</th>\n",
              "      <th>reviewerID</th>\n",
              "      <th>reviewText</th>\n",
              "      <th>summary</th>\n",
              "      <th>unixReviewTime</th>\n",
              "      <th>category</th>\n",
              "      <th>price</th>\n",
              "      <th>itemID</th>\n",
              "      <th>reviewHash</th>\n",
              "      <th>image</th>\n",
              "    </tr>\n",
              "  </thead>\n",
              "  <tbody>\n",
              "    <tr>\n",
              "      <th>0</th>\n",
              "      <td>4</td>\n",
              "      <td>08 24, 2010</td>\n",
              "      <td>u04428712</td>\n",
              "      <td>So is Katy Perry's new album \"Teenage Dream\" c...</td>\n",
              "      <td>Amazing that I Actually Bought This...More Ama...</td>\n",
              "      <td>1282608000</td>\n",
              "      <td>Pop</td>\n",
              "      <td>$35.93</td>\n",
              "      <td>p70761125</td>\n",
              "      <td>85559980</td>\n",
              "      <td>NaN</td>\n",
              "    </tr>\n",
              "    <tr>\n",
              "      <th>1</th>\n",
              "      <td>5</td>\n",
              "      <td>10 31, 2009</td>\n",
              "      <td>u06946603</td>\n",
              "      <td>I got this CD almost 10 years ago, and given t...</td>\n",
              "      <td>Excellent album</td>\n",
              "      <td>1256947200</td>\n",
              "      <td>Alternative Rock</td>\n",
              "      <td>$11.28</td>\n",
              "      <td>p85427891</td>\n",
              "      <td>41699565</td>\n",
              "      <td>NaN</td>\n",
              "    </tr>\n",
              "    <tr>\n",
              "      <th>2</th>\n",
              "      <td>4</td>\n",
              "      <td>10 13, 2015</td>\n",
              "      <td>u92735614</td>\n",
              "      <td>I REALLY enjoy this pairing of Anderson and Po...</td>\n",
              "      <td>Love the Music, Hate the Light Show</td>\n",
              "      <td>1444694400</td>\n",
              "      <td>Pop</td>\n",
              "      <td>$89.86</td>\n",
              "      <td>p82172532</td>\n",
              "      <td>24751194</td>\n",
              "      <td>NaN</td>\n",
              "    </tr>\n",
              "    <tr>\n",
              "      <th>3</th>\n",
              "      <td>5</td>\n",
              "      <td>06 28, 2017</td>\n",
              "      <td>u35112935</td>\n",
              "      <td>Finally got it . It was everything thought it ...</td>\n",
              "      <td>Great</td>\n",
              "      <td>1498608000</td>\n",
              "      <td>Pop</td>\n",
              "      <td>$11.89</td>\n",
              "      <td>p15255251</td>\n",
              "      <td>22820631</td>\n",
              "      <td>NaN</td>\n",
              "    </tr>\n",
              "    <tr>\n",
              "      <th>4</th>\n",
              "      <td>4</td>\n",
              "      <td>10 12, 2015</td>\n",
              "      <td>u07141505</td>\n",
              "      <td>Look at all star cast.  Outstanding record, pl...</td>\n",
              "      <td>Love these guys.</td>\n",
              "      <td>1444608000</td>\n",
              "      <td>Jazz</td>\n",
              "      <td>$15.24</td>\n",
              "      <td>p82618188</td>\n",
              "      <td>53377470</td>\n",
              "      <td>NaN</td>\n",
              "    </tr>\n",
              "    <tr>\n",
              "      <th>...</th>\n",
              "      <td>...</td>\n",
              "      <td>...</td>\n",
              "      <td>...</td>\n",
              "      <td>...</td>\n",
              "      <td>...</td>\n",
              "      <td>...</td>\n",
              "      <td>...</td>\n",
              "      <td>...</td>\n",
              "      <td>...</td>\n",
              "      <td>...</td>\n",
              "      <td>...</td>\n",
              "    </tr>\n",
              "    <tr>\n",
              "      <th>199995</th>\n",
              "      <td>4</td>\n",
              "      <td>05 1, 2004</td>\n",
              "      <td>u68902609</td>\n",
              "      <td>With this, Mariah's third album, Mariah proved...</td>\n",
              "      <td>Well Done Mariah! You Show 'Em!</td>\n",
              "      <td>1083369600</td>\n",
              "      <td>Pop</td>\n",
              "      <td>$7.98</td>\n",
              "      <td>p84118731</td>\n",
              "      <td>35077372</td>\n",
              "      <td>NaN</td>\n",
              "    </tr>\n",
              "    <tr>\n",
              "      <th>199996</th>\n",
              "      <td>5</td>\n",
              "      <td>02 27, 2017</td>\n",
              "      <td>u15269603</td>\n",
              "      <td>Fantastic CD.  All the hits are here and even ...</td>\n",
              "      <td>Great collection, excellent sound!</td>\n",
              "      <td>1488153600</td>\n",
              "      <td>Pop</td>\n",
              "      <td>$11.49</td>\n",
              "      <td>p08613950</td>\n",
              "      <td>9788722</td>\n",
              "      <td>NaN</td>\n",
              "    </tr>\n",
              "    <tr>\n",
              "      <th>199997</th>\n",
              "      <td>3</td>\n",
              "      <td>03 1, 2011</td>\n",
              "      <td>u25124021</td>\n",
              "      <td>This recording is rather disappointing, to a c...</td>\n",
              "      <td>Odd Couplings</td>\n",
              "      <td>1298937600</td>\n",
              "      <td>Classical</td>\n",
              "      <td>$13.57</td>\n",
              "      <td>p25341819</td>\n",
              "      <td>71627957</td>\n",
              "      <td>NaN</td>\n",
              "    </tr>\n",
              "    <tr>\n",
              "      <th>199998</th>\n",
              "      <td>5</td>\n",
              "      <td>03 20, 2016</td>\n",
              "      <td>u04485604</td>\n",
              "      <td>Get it now ! Right now ! I am partial. I am a ...</td>\n",
              "      <td>Our Poet</td>\n",
              "      <td>1458432000</td>\n",
              "      <td>Alternative Rock</td>\n",
              "      <td>$11.07</td>\n",
              "      <td>p19134748</td>\n",
              "      <td>27463540</td>\n",
              "      <td>NaN</td>\n",
              "    </tr>\n",
              "    <tr>\n",
              "      <th>199999</th>\n",
              "      <td>5</td>\n",
              "      <td>01 28, 2012</td>\n",
              "      <td>u91032625</td>\n",
              "      <td>Demi Lovato cd was a big hit with my granddaug...</td>\n",
              "      <td>demi lovato</td>\n",
              "      <td>1327708800</td>\n",
              "      <td>Pop</td>\n",
              "      <td>$7.00</td>\n",
              "      <td>p72631564</td>\n",
              "      <td>25270037</td>\n",
              "      <td>NaN</td>\n",
              "    </tr>\n",
              "  </tbody>\n",
              "</table>\n",
              "<p>200000 rows × 11 columns</p>\n",
              "</div>"
            ],
            "text/plain": [
              "        overall   reviewTime reviewerID  ...     itemID reviewHash  image\n",
              "0             4  08 24, 2010  u04428712  ...  p70761125   85559980    NaN\n",
              "1             5  10 31, 2009  u06946603  ...  p85427891   41699565    NaN\n",
              "2             4  10 13, 2015  u92735614  ...  p82172532   24751194    NaN\n",
              "3             5  06 28, 2017  u35112935  ...  p15255251   22820631    NaN\n",
              "4             4  10 12, 2015  u07141505  ...  p82618188   53377470    NaN\n",
              "...         ...          ...        ...  ...        ...        ...    ...\n",
              "199995        4   05 1, 2004  u68902609  ...  p84118731   35077372    NaN\n",
              "199996        5  02 27, 2017  u15269603  ...  p08613950    9788722    NaN\n",
              "199997        3   03 1, 2011  u25124021  ...  p25341819   71627957    NaN\n",
              "199998        5  03 20, 2016  u04485604  ...  p19134748   27463540    NaN\n",
              "199999        5  01 28, 2012  u91032625  ...  p72631564   25270037    NaN\n",
              "\n",
              "[200000 rows x 11 columns]"
            ]
          },
          "metadata": {
            "tags": []
          },
          "execution_count": 7
        }
      ]
    },
    {
      "cell_type": "code",
      "metadata": {
        "colab": {
          "base_uri": "https://localhost:8080/",
          "height": 479
        },
        "id": "iyj3biUcUaja",
        "outputId": "a445b82a-8fba-408b-e0fb-3c20301e9bcf"
      },
      "source": [
        "#look at the first 25 full data rows in reviewtext column, noticing html\n",
        "with pd.option_context('display.max_colwidth', None):\n",
        "  display(train_set.reviewText.head(25))"
      ],
      "execution_count": null,
      "outputs": [
        {
          "output_type": "display_data",
          "data": {
            "text/plain": [
              "0                                                                                                                                                                                                                                                                                                                                                                                                                                                                                                                                                                                                                                                                                                                                                                                                                                                                                                                                                                                                                                                                                                                                                                                                                                                                                                                                                                                                                                                                                                                                                                                                                                                                                                                                                                                          So is Katy Perry's new album \"Teenage Dream\" contrived, derived and unoriginal?  The answer to all three would be a resounding yes! So why on earth in spite of this fact is her new album so unbelievably great????  Well, the answer may be complicated if not impossible to fully answer.  The simple brilliance of Katy Perry would be simplicity and self awareness....thus the brilliant cover art of her nude in clouds that reveal Katy for what she truly is...an absolutely gorgeous young woman with very a simple, straight forward message....give them what they want.  And Katy delivers!!!....Take a song like \"Pearl\" ...which I believe happens to be the gem of the entire album....it's a lush, gaudy, maudlin, tribute to \"woman power\" and although the lyrics are silly beyond belief,  it may be just the song many girls need these days.  Another winner here is \"who am I living for?\".....I really liked this song, as it has a very European feel to it and it has another very simplistic but resonant message that many will relate to.  Other stand-outs include the track \"Firework\" which sounds reminiscent of just about any track on LeAnn Rimes \"Twisted Angel\" album and the fun as hell yet most irresponsible track  \"Last Friday Night\".  Immediate hits such as \"California Gurls\" are OK and fun but overheard at this point so they will be most likely skipped over..but the beauty is that there are plenty of other addictive tracks in waiting! Finally, Kudos also to pristine production, as the album sounds loud, clear and near when headphones are one.  Well done Katy!!!\n",
              "1                                                                                                                                                                                                                                                                                                                                                                                                                                                                                                                                                                                                                                                                                                                                                                                                                                                                                                                                                                                                                                                                                                                                                                                                                                                                                                                                                                                                                                                                                                                                                                                                                                                                                                                                                                                                                                                                                                                                                                                                                                                                                                                                                                                                                                                                                                                                                                                                                                                                                                                                                                                                                                                            I got this CD almost 10 years ago, and given the passage of time, I still think it is amazing.  My tastes for rock developed with the grunge bands in the '90's - Nirvana, Soundgarden, Alice in Chains.  Something like Human definitely sounds like a derivative of grunge, particularly Alice in Chains.  Scallions voice sounds eerily similar to Staley on certain tracks (Scar, Easy).  Structure wise the songs are very dynamic, catchy, and enjoyable.  I feel like the weakest songs were released to radio (Bad Day, Innocent) but they are more than compensated for with the standouts Solace, Easy, Prove, Empty Spaces, and Down.  For anyone who enjoys the grungy sound of yesteryear, or just simply loves rocking out, this is an essential.\n",
              "2                                                                                                                                                                                                                                                                                                                                                                                                                                                                                                                                                                                                                                                                                                                                                                                                                                                                                                                                                                                                                                                                                                                                                                                                                                                                                                                                                                                                                                                                                                                                                                                                                                                                                                                                                                                                                                                                                                                                                                                                                                                                                                                                                                                                                                                                                                                                                                                                                                                                                                                                                                                                                                              I REALLY enjoy this pairing of Anderson and Ponty. The music is very much what I would have expected from these two gifted individuals. I just wish that they had not added all of the \"groovy\" psychedelic effects onto the DVD concert performance. I realize that both of these guys are \"of that age\", but still...this music and these performances can stand on their own, without adding all of the razzle dazzle. Anderson and Yes have the same problem with their \"Keys to Ascension\" video...the music is stunning, you're into the flow of it, and then all of a sudden you're bombarded with these aerialists performing on multi-colored backgrounds in slow-motion...for SOME reason. So, enjoy the aural experience time and again, and watch the DVD once...\n",
              "3                                                                                                                                                                                                                                                                                                                                                                                                                                                                                                                                                                                                                                                                                                                                                                                                                                                                                                                                                                                                                                                                                                                                                                                                                                                                                                                                                                                                                                                                                                                                                                                                                                                                                                                                                                                                                                                                                                                                                                                                                                                                                                                                                                                                                                                                                                                                                                                                                                                                                                                                                                                                                                                                                                                                                                                                                                                                                                                                                                                                                                                                                                                                                                                                                                                                                                                                                       Finally got it . It was everything thought it would be . Great music\n",
              "4                                                                                                                                                                                                                                                                                                                                                                                                                                                                                                                                                                                                                                                                                                                                                                                                                                                                                                                                                                                                                                                                                                                                                                                                                                                                                                                                                                                                                                                                                                                                                                                                                                                                                                                                                                                                                                                                                                                                                                                                                                                                                                                                                                                                                                                                                                                                                                                                                                                                                                                                                                                                                                                                                                                                                                                                                                                                                                                                                                                                                                                                                                                                                                                                                                                                                                     Look at all star cast.  Outstanding record, play Impressions, 4 and half stars.  Right behind Bartz' Coltrane tribute.\n",
              "5                                                                                                                                                                                                                                                                                                                                                                                                                                                                                                                                                                                                                                                                                                                                                                                                                                                                                                                                                                                                                                                                                                                                                                                                                                                                                                                                                                                                                                                                                                                                                                                                                                                                                                                                                                                                                                                                                                                                                                                                                                                                                                                                                                                                                                                                                                                                                                                                                                                                                                                                                                                                                                                                                                                                                                                                                                                                                                                                                                                                                                                                                                                                                                                                                                                                                                                                                                                                                       o.k.\n",
              "6                                                                                                                                                                                                                                                                                                                                                                                                                                                                                                                                                                                                                                                                                                                                                                                                                                                                                                                                                                                                                                                                                                                                                                                                                                                                                                                                                                                                                                                                                                                                                                                                                                                                                                                                                                                                                                                                                                                                                                                                                                                                                                                                                                                                                                                                                                                                                                                                                                                                                                                                                                                                                                                                                                                                                                                                                                                                                                                                                                                                                                                                                                                                                                                                                                                                               Bought this album while sitting at a Boney James concert in Chicago!  Listened to it on the way home!  I would give it 100 stars if I could!\n",
              "7                                                                                                                                                                                                                                                                                                                                                                                                                                                                                                                                                                                                                                                                                                                                                                                                                                                                                                                                                                                                                                                                                                                                                                                                                                                                                                                                                                                                                                                                                                                                                                                                                                                                                                                                                                                                                                                                                                                                                                                                                                                                                                                                                                                                                                                                                                                                                                                                                                                                                                                                                                                                                                                                                                                                                                                                                                                                                                                                                                                                                                                                                                                                                                                                                                                                                                                                                                                                                      great\n",
              "8                                                                                                                                                                                                                                                                                                                                                                                                                                                                                                                                                                                                                                                                                                                                                                                                                                                                                                                                                                                                                                                                                                                                                                                                                                                                                                                                                                                                                                                                                                                                                                                                                                                                                                                                                                                                                                                                                                                                                                                                                                                                                                                                                                                                                                                                                                                                                                                                                                                                                                                                                                                                                                                                                                                                                                                                                                                                                                                                                                                                                                                                                                                                                                                                                                                                        Kelly sounds great on this CD  She is back.  I don't know what else to say.  The last CD hated it.  This one I would buy again and give to a friend\n",
              "9                                                                                                                                                                                                                                                                                                                                                                                                                                                                                                                                                                                                                                                                                                                                                                                                                                                                                                                                                                                                                                                                                                                                                                                                                                                                                                                                                                                                                                                                                                                                                                                                                                                                                                                                                                                                                                                                                                                                                                                                                                                                                                                                                                                                                                                                                                                                                                                                                                                                                                                                                                                                                                                                                                                                                                                                                                                                                                                                                                                                                                                                                                                                                 Brahms most famous concerto (Violin Concerto) and his last sublime work for orchestra (Concerto for Violin & Cello) both get top notch treatment in this fine recording. Stern and Rose are awesome! Rich and uniform recording. Ormandy's mighty baton. Hats off to Sony!\n",
              "10                                                                                                                                                                                                                                                                                                                                                                                                                                                                                                                                                                                                                                                                                                                                                                                                                                                                                                                                                                                                                                                                                                                                                                                                                                                                                                                                                                                                                                                                                                                                                                                                                                                                                                                                                                                                                                                                                                                                                                                                                                                                                                                                                                                                                                                                                                                                                                                                                                                                                                                                                                                                                                                                                                                                                                                                                                                                                                                                                                                                                                              Me personally I am not a big fan of Pearl Jam they have some good songs on this album like Even Flow and Jeremy but I pesonally find the rest of the songs are uncreative and all sound basically the same. But I can see why people like it but it just doesn't appeal to me. So I say go buy it and judge it for yourself. Even Flow pretty much makes it worth the money.\n",
              "11                                                                                                                                                                                                                                                                                                                                                                                                                                                                                                                                                                                                                                                                                                                                                                                                                                                                                                                                                                                                                                                                                                                                                                                                                                                                                                                                                                                                                                                                                                                                                                                                                                                                                                                                                                                                                                                                                                   Katchen's performace throughout this collection are excellent. Brahms integrates many of Schumann's,Bach's and Beethovens compositional ideas into his own works. He is a master of the appoggiatura(suspension of the dominant chord).And the ghosts of Bach,Schumann,and Beethoven appear at intervals throughout this collection of his piano works. The VARIATIONS ON AN ORIGINAL THEME is an ethereal experience,and the Op. 09 VARIATIONS ON A THEME BY SCHUMANN, composed after his death,Brahms's pathos,especialy in the slower variations, make you aware of his sadness of Schumann passing, as there  is vivid sense of despair and remorse you can hear throughout. It is well documented the profound influence Schumann had on Brahms's compositional process. OP.76 is a passionate performance by Katchen. You also have short piano works culminated in Op116,Op 117,Op. 118,which includes the great masterpiece in Ebminor,and Op. 119. The Pagganini Variations,Variations on a theme by Haydn,the Ballads Op. 10. And both volumes of the HUNGARIAN DANCES,the 2 Rhapsody's,and VARATIONS ON A THEME BY HANDEL.It quite remarkable that such music could be created by such a young man in the astonishing Sonatas,OP.1,OP.2,and OP.5. The slow movements in all three sonates are very inspiring,and heart fealt. It makes you glad to be alive in order to hear such remarkable music. A well balanced performance throughout. If your a Brahms lover,this is a must for your collection. Enjoy\n",
              "12                                                                                                                                                                                                                                                                                                                                                                                                                                                                                                                                                                                                                                                                                                                                                                                                                                                                                                                                                                                                                                                                                                                                                                                                                                                                                                                                                                                                                                                                                                                                                                                                                                                                                                                                                                                                                                                                                                                                                                                                                                                                                                                                                                                                                                                                                                                                                                                                                                                                                                                                                                                                                                                                                                                                                                                                                                                                                                                                                                                                                                                                                                                                                                                                                                                                                                                                                                                                                      good\n",
              "13                                                                                                                                                                                                                                                                                                                                                                                                                                                                                                                                                                                                                                                                                                                                                                                                                                                                                                                                                                                                                                                                                                                                                                                                                                                                                                                                                                                                                                                                                                                                                                                                                                                                                                                                                                                                                                                                                                                                                                                                                                                                                                                                                                                                                                                                                                                                                                                                                                                                                                                                                                                                                                                                                                                                                                                                                                                                                                                                                                                                                                                                                                                                                                                                                                                                                                                                                                                                              very good cd\n",
              "14                                                                                                                                                                                                                                                                                                                                                                                                                                                                                                                                                                                                                                                                                                                                                                                                                                                                                                                                                                                                                                                                                                                                                                                                                                                                                                                                                                                                                                                                                                                                                                                                                                                                                                                                                                                                                                                                                                                                                                                                                                                                                                                                                                                                                                                                                                                                                                                                                                                                                                                                                                                                                                                                                                                                                                                                                                                                                                                                                                                                                                                                                                                                                                                                                                                                                                                                                                                                           She is my fave!\n",
              "15                                                                                                                                                                                                                                                                                                                                                                                                                                                                                                                                                                                                                                                                                                                                                                                                                                                                                                                                                                                                                                                                                                                                                                                                                                                                                                                                                                                                                                                                                                                                                                                                                                                                                                                                                                               I had bought Fat of the Land back when it first came out and loved it, but I never really got to buying the rest of the Prodigy's albums.  Finally, Amazon.com had this reissue as one of its featured recommendations, and I decided to give it a try.  All I have to say is that was a really good move on my part.\\nThis first thing I thought when listening to this disk was, \"Wow, the instruments on this album haven't aged well at all.\"  And that is true...a lot of the sound seems dated.  But the second thing I thought when listening to this album was that the beats sound just as good, if not better, than anything being put out today.  Talk about some crazy dance beats.  Everything about this album is supercharged.  Let's just say that this album hasn't strayed far from my cd player since I bought it.\\nOf course, what's new about this reissue is that there is a bonus disk featuring B-sides and remixes not on the original album. Expanded is just about as great as the Experience disk, with the only problem being that the songs don't flow together like on Experience.  Otherwise, there is some great stuff on that disk.\\nAll and all, a five star purchase.  I could see some of these songs being played on the club floor today, and no one would be the wiser because they would be too busy trying to keep up with the killer beat.  Yes, the instruments sound a little dated, but the music shall remain timeless.  If you are a Prodigy fan, you already know this.  I you think you might be a Prodigy fan, pick up this album and you will know you are a Prodigy fan.  Great stuff!\n",
              "16                                                                                                                                                                                                                                                                                                                                                                                                                                                                                                                                                                                                                                                                                                                                                                                                                                                                                                                                                                                                                                                                                                                                                                                                                                                                                                                                                                                                                                                                                                                                                                                                                                                                                                                                                                                                                                                                                                                                                                                                                                                                                                                                                                                                                                                                                                                                                                                                                                                                                                                                                                                                                                                                                                                                                                                                                                                                                                                                                                                                          Wow, I had this in the late 60s, I saw Deaf Genius dance to it on, \"Dancing with the Stars\" giving new meaning to my old friends and their harmonies. Well like my Mom said as a teen, That's good music, not any screaming and yelling, and I like the lyrics. This is the 3rd purchase, just makes me feel good. BTW Nyles DeMarco was the deaf guy, but I heard his interpretation and he won. And I learned.\n",
              "17    The overtures from Rossini's many operas have been recorded very frequently, and there are quite a few discs available, all with different selections included. When I obtained this CD back in the early '90's, it had received Gramophone's highest recommendation - their review said that \"the recording is as vivid as the music. This is a disc to bring a smile to the lips and make you appreciate life\". I have enjoyed it since that time - the performances are energetic and the recording quality is excellent.\\n\\nOvertures included in this disc are:\\n- La sala di seta\\n- Il signor Bruschino\\n- L'Italiana in Algieri\\n- Il barbiere di Siviglia\\n- La gazza ladra\\n- Semiramide\\n- Guillaume Tell\\n\\nMy other recording of Rossini's overtures is&nbsp;<a data-hook=\"product-link-linked\" class=\"a-link-normal\" href=\"/Rossini-Overtures/dp/B00000E31C/ref=cm_cr_arp_d_rvw_txt?ie=UTF8\">Rossini: Overtures</a>, with the Orpheus Chamber Orchestra performing a different selection of overtures, another very enjoyable disc (overtures included in that disc are: Tancredi, L 'Italiana in Algeri, L 'inganno felice, La scala di seta, Il Barbiere di Siviglia, Il Signor Bruschino, La cambia di matrimony, Il Turco in Italia). This was also a Gramophone recommendation and is also in the 2008 Penguin guide as a recommended CD.\\n\\nAs a final alternative for consideration,&nbsp;<a data-hook=\"product-link-linked\" class=\"a-link-normal\" href=\"/Rossini-Complete-Overtures/dp/B00009KV0W/ref=cm_cr_arp_d_rvw_txt?ie=UTF8\">Rossini: Complete Overtures</a>&nbsp;includes all of Rossini's overtures, with Neville Marriner conducting the Academy of St. Martin-in-the-Fields. This is a 3 CD collection and if you want to get everything, it is probably the best choice, being the current Penguin recommendation and having it all together and with very fine performances and recording quality.\\n\\n-----------------------\\n\\nAdded Notes 4/12/15:\\n\\nI've just realized that this recording is listed on Amazon multiple times (not unusual). I'm therefore adding to this review the links to the various listings on Amazon, since each will have sellers offering this recording for different prices, to make it a bit easier for locating the best price for this recording:\\n\\n-&nbsp;<a data-hook=\"product-link-linked\" class=\"a-link-normal\" href=\"/Rossini-Overtures/dp/B000F2QC1Y/ref=cm_cr_arp_d_rvw_txt?ie=UTF8\">Rossini: Overtures</a>&nbsp;(the listing where my review was first posted on 4/23/13)\\n-&nbsp;<a data-hook=\"product-link-linked\" class=\"a-link-normal\" href=\"/Rossini-Overtures/dp/B000002RRS/ref=cm_cr_arp_d_rvw_txt?ie=UTF8\">Rossini: Overtures</a>\\n-&nbsp;<a data-hook=\"product-link-linked\" class=\"a-link-normal\" href=\"/ROSSINI-OVERTURES-24bit/dp/B000BR2PWI/ref=cm_cr_arp_d_rvw_txt?ie=UTF8\">ROSSINI: OVERTURES(24bit)</a>&nbsp;(sellers all in Japan, recording may be a higher quality digital version?)\\n-&nbsp;<a data-hook=\"product-link-linked\" class=\"a-link-normal\" href=\"/Rossini-Overtures/dp/B000E2ZOIM/ref=cm_cr_arp_d_rvw_txt?ie=UTF8\">Rossini: Overtures</a>\\n-&nbsp;<a data-hook=\"product-link-linked\" class=\"a-link-normal\" href=\"/Rossini-Overtures-London-Classical-Players--Sir-Roger-Norrington/dp/B00005AFRC/ref=cm_cr_arp_d_rvw_txt?ie=UTF8\">Rossini - Overtures / London Classical Players  Sir Roger Norrington</a>\n",
              "18                                                                                                                                                                                                                                                                                                                                                                                                                                                                                                                                                                                                                                                                                                                                                                                                                                                                                                                                                                                                                                                                                                                                                                                                                                                                                                                                                                                                                                                                                                                                                                                                                                                                                                                                                                                                                                                                                                                                                                                                                                                                                                                                                                                                                                                                                                                                                                                                                                                                                                                                                                                                                                                                                                                                                                                                                                                                                                                                                                                                                                                                                                                                                                                                                                                                                                                                                                           I enjoy this at least once a week.  No regrets.\n",
              "19                                                                                                                                                                                                                                                                                                                                                                                                                                                                                                                                                                                                                                                                                                                                                                                                                                                                                                                                                                                                                                                                                                                                                                                                                                                                                                                                                                                                                                                                                                                                                                                                                                                                                                                                                                                                                                                                                                                                                                                                                                                                                                                                                                                                                                                                                                                                                                                                                                                                                                                                                                                                                                                                                                                                                                                                                                                                                                                                                                                                                                                                                                                                                                                                                                                                                                                                                                            spectacular performance by keyboard wizardess.\n",
              "20                                                                                                                                                                                                                                                                                                                                                                                                                                                                                                                                                                                                                                                                                                                                                                                                                                                                                                                                                                                                                                                                                                                                                                                                                                                                                                                                                                                                                                                                                                                                                                                                                                                                                                                                                                                                                                                                                                                                                                                                                                                                                                                                                                                                                                                                                                                                                                                                                                                                                                                                                                                                                                                                                                                                                                                                                                                                                                                                                                                                                                                                                                                                                                                                                                                                                                      Jackie Ryan is a good jazz singer and teaming up with the great pianist Cyrus  Chestnut makes for a good jazz album.\n",
              "21                                                                                                                                                                                                                                                                                                                                                                                                                                                                                                                                                                                                                                                                                                                                                                                                                                                                                                                                                                                                                                                                                                                                                                                                                                                                                                                                                                                                                                                                                                                                                                                                                                                                                                                                                                                                                                                                                                                                                                                                                                                                                                                                                                                                                                                                                                                                                                                                                                                                                                                                                                                                                                                                                                                                                                                                                                                                                                                                                                                                                                                                                                                                                                                                                                                                                                                                                                                                              Really Great\n",
              "22                                                                                                                                                                                                                                                                                                                                                                                                                                                                                                                                                                                                                                                                                                                                                                                                                                                                                                                                                                                                                                                                                                                                                                                                                                                                                                                                                                                                                                                                                                                                                                                                                                                                                                                                                                                                                                                                                                                                                                                                                                                                                                                                                                                                                                                                                                                                                                                                                                                                                                                                                                                                                                                                                                                                                                                                                                                I played this CD through several times a day for about two months when I first bought it. Virtually every song is great, especially Lapdance, Brain, Truth or Dare, Am I High and Rock Star. Hard driving hybrid of rap and punk, but hugely danceable, very funky. Lyrics are angry but quite intelligent. As a middleclass white guy pushing 40, I could totally relate to most of what they were talking about, unlike the other stuff that typifies most rap. Even preaches against drugs in a couple of songs, mom and dad will be happy to note. Highly recommended.\n",
              "23                                                                                                                                                                                                                                                                                                                                                                                                                                                                                                                                                                                                                                                                                                                                                                                                                                                                                                                                                                                                                                                                                                                                                                                                                                                                                                                                                                                                                                                                                                                                                                                                                                                                                                                                                                                                                                                                                                                                                                                                                                                                                                                                                                                                                                                                                                                                                                                                                                                                                                                                                                                                                                                                                                                                                                                                                                                                                                                                                                                                                                                                                                                                                                                                                                                                                                      bACK IN TIME is Now the present. A great collection of the Early Days and the British Invasion Era.wow and then some\n",
              "24                                                                                                                                                                                                                                                                                                                                                                                                                                                                                                                                                                                                                                                                                                                                                                                                                                                                                                                                                                                                                                                                                                                                                                                                                                                                                                                                                                                                                                                                                                                                                                                                                                                                                                                                                                                                                                                                                                                                                                                                                                                                                                                                                                                                                                                                                                                                                                                                                                                                                                                                                                                                                                                                                                                                                                                                  My wife and I were listening to some Tegan and Sara and decided we wanted to go on a T&S binge! So we bought 'Sainthood', 'This Business of Art', 'If It Was You', 'The Con', and 'So Jealous'. Then shortly after, Amazon had a one day special on their newest, 'Heartthrob' for $2.99, and we added that. We like listening to them on shuffle and hearing their different styles mixed together. You can hear different influences, but T&G always have great harmony, lyrics and bounce that are all their own. This is fun alt-pop that also has depth and heart. Make Tegan and Sara a part of your musical life!\n",
              "Name: reviewText, dtype: object"
            ]
          },
          "metadata": {
            "tags": []
          }
        }
      ]
    },
    {
      "cell_type": "code",
      "metadata": {
        "colab": {
          "base_uri": "https://localhost:8080/"
        },
        "id": "yrTIIkLn-rFV",
        "outputId": "aedbde40-8859-49b5-8ccf-82aa1241b96a"
      },
      "source": [
        "#take a look at the reviewText general info\n",
        "train_set.reviewText.describe()"
      ],
      "execution_count": null,
      "outputs": [
        {
          "output_type": "execute_result",
          "data": {
            "text/plain": [
              "count     199964\n",
              "unique    184949\n",
              "top        great\n",
              "freq         662\n",
              "Name: reviewText, dtype: object"
            ]
          },
          "metadata": {
            "tags": []
          },
          "execution_count": 9
        }
      ]
    },
    {
      "cell_type": "code",
      "metadata": {
        "id": "pNTcD6JEanrN"
      },
      "source": [
        "#take review year from reviewTime \n",
        "train_set['reviewYear'] = train_set['reviewTime'].str.split('\\,').str[-1].str.strip()\n",
        "\n",
        "train_set['reviewYear'] = train_set['reviewYear'].apply(int)"
      ],
      "execution_count": 4,
      "outputs": []
    },
    {
      "cell_type": "code",
      "metadata": {
        "id": "HlWeCjvn9H0q"
      },
      "source": [
        "#train_set =  train_set[['itemID', 'overall', 'price', 'reviewerID', 'summary','category','reviewText', 'reviewYear', 'unixReviewTime', 'reviewHash']] \n",
        "\n",
        "\n",
        "#drop irrelevant columns\n",
        "train_set =  train_set[['itemID', 'overall', 'price', 'reviewerID', 'summary','category','reviewText', 'reviewYear', 'unixReviewTime', 'reviewHash']]"
      ],
      "execution_count": 5,
      "outputs": []
    },
    {
      "cell_type": "code",
      "metadata": {
        "id": "lszc21NY9H0q"
      },
      "source": [
        "#join reviewerID-itemID for unique review ID\n",
        "def join(row):\n",
        "    return row['reviewerID']+\"-\"+row['itemID']"
      ],
      "execution_count": 6,
      "outputs": []
    },
    {
      "cell_type": "code",
      "metadata": {
        "id": "1v6eQLrY9H0q"
      },
      "source": [
        "train_set['userID-itemID'] = train_set.apply(join,axis =1)"
      ],
      "execution_count": 7,
      "outputs": []
    },
    {
      "cell_type": "code",
      "metadata": {
        "id": "7EfgTCES9H0q"
      },
      "source": [
        "#train_set = train_set[['userID-itemID','overall','price','summary','category','reviewText', 'reviewYear', 'unixReviewTime', 'reviewHash']]\n",
        "\n",
        "train_set = train_set[['userID-itemID','overall','price','summary','category','reviewText', 'reviewYear', 'unixReviewTime', 'reviewHash']]"
      ],
      "execution_count": 8,
      "outputs": []
    },
    {
      "cell_type": "code",
      "metadata": {
        "id": "KbNIzz3H9H0q"
      },
      "source": [
        "from sklearn.preprocessing import FunctionTransformer\n",
        "from sklearn.pipeline import FeatureUnion\n",
        "from sklearn.pipeline import Pipeline\n",
        "from sklearn.feature_extraction.text import CountVectorizer\n",
        "from sklearn.linear_model import LinearRegression\n",
        "from sklearn.preprocessing import StandardScaler"
      ],
      "execution_count": 9,
      "outputs": []
    },
    {
      "cell_type": "code",
      "metadata": {
        "id": "wOcYz4Ke3KuX"
      },
      "source": [
        "#Get rid of $ in price and change to numeric\n",
        "train_set.price = train_set.price.str.strip('$')"
      ],
      "execution_count": 10,
      "outputs": []
    },
    {
      "cell_type": "code",
      "metadata": {
        "id": "qIgdXBfD9H0q"
      },
      "source": [
        "train_set['price'] = pd.to_numeric(train_set['price'], errors='coerce')"
      ],
      "execution_count": 11,
      "outputs": []
    },
    {
      "cell_type": "code",
      "metadata": {
        "id": "09ze5VfA9H0r"
      },
      "source": [
        "#make each category into encoded columns \n",
        "df = pd.get_dummies(train_set['category'],drop_first =True)\n",
        "\n",
        "train_set = pd.concat([train_set, df],axis = 'columns')"
      ],
      "execution_count": 12,
      "outputs": []
    },
    {
      "cell_type": "code",
      "metadata": {
        "colab": {
          "base_uri": "https://localhost:8080/"
        },
        "id": "W6wbsV-53c6n",
        "outputId": "4ae8d2a3-8bdd-426d-a7c3-96f07b94c779"
      },
      "source": [
        "train_set.info()"
      ],
      "execution_count": null,
      "outputs": [
        {
          "output_type": "stream",
          "text": [
            "<class 'pandas.core.frame.DataFrame'>\n",
            "RangeIndex: 200000 entries, 0 to 199999\n",
            "Data columns (total 13 columns):\n",
            " #   Column              Non-Null Count   Dtype  \n",
            "---  ------              --------------   -----  \n",
            " 0   userID-itemID       200000 non-null  object \n",
            " 1   overall             200000 non-null  int64  \n",
            " 2   price               197269 non-null  float64\n",
            " 3   summary             199965 non-null  object \n",
            " 4   category            200000 non-null  object \n",
            " 5   reviewText          199964 non-null  object \n",
            " 6   reviewYear          200000 non-null  int64  \n",
            " 7   unixReviewTime      200000 non-null  int64  \n",
            " 8   reviewHash          200000 non-null  int64  \n",
            " 9   Classical           200000 non-null  uint8  \n",
            " 10  Dance & Electronic  200000 non-null  uint8  \n",
            " 11  Jazz                200000 non-null  uint8  \n",
            " 12  Pop                 200000 non-null  uint8  \n",
            "dtypes: float64(1), int64(4), object(4), uint8(4)\n",
            "memory usage: 14.5+ MB\n"
          ],
          "name": "stdout"
        }
      ]
    },
    {
      "cell_type": "code",
      "metadata": {
        "id": "fiemSSjm9H0r"
      },
      "source": [
        "#fill in null values with forward fill as there aren't much null values \n",
        "train_set.fillna(method='ffill',inplace =True)"
      ],
      "execution_count": 13,
      "outputs": []
    },
    {
      "cell_type": "code",
      "metadata": {
        "id": "eaQ5Ht8UsUZj"
      },
      "source": [
        "#scale with log \n",
        "train_set['price'] = np.log(train_set[['price']])\n",
        "train_set['unixReviewTime'] = np.log(train_set[['unixReviewTime']])"
      ],
      "execution_count": 14,
      "outputs": []
    },
    {
      "cell_type": "code",
      "metadata": {
        "id": "iV4wq6zMtjrr"
      },
      "source": [
        "#train_set = train_set[train_set['price'] < 100]  "
      ],
      "execution_count": null,
      "outputs": []
    },
    {
      "cell_type": "code",
      "metadata": {
        "colab": {
          "base_uri": "https://localhost:8080/"
        },
        "id": "hQgxOabsvNPm",
        "outputId": "22bf7695-1b4c-4d9e-941b-c821c979d3c9"
      },
      "source": [
        "train_set.info()"
      ],
      "execution_count": null,
      "outputs": [
        {
          "output_type": "stream",
          "text": [
            "<class 'pandas.core.frame.DataFrame'>\n",
            "RangeIndex: 200000 entries, 0 to 199999\n",
            "Data columns (total 13 columns):\n",
            " #   Column              Non-Null Count   Dtype  \n",
            "---  ------              --------------   -----  \n",
            " 0   userID-itemID       200000 non-null  object \n",
            " 1   overall             200000 non-null  int64  \n",
            " 2   price               200000 non-null  float64\n",
            " 3   summary             200000 non-null  object \n",
            " 4   category            200000 non-null  object \n",
            " 5   reviewText          200000 non-null  object \n",
            " 6   reviewYear          200000 non-null  int64  \n",
            " 7   unixReviewTime      200000 non-null  float64\n",
            " 8   reviewHash          200000 non-null  int64  \n",
            " 9   Classical           200000 non-null  uint8  \n",
            " 10  Dance & Electronic  200000 non-null  uint8  \n",
            " 11  Jazz                200000 non-null  uint8  \n",
            " 12  Pop                 200000 non-null  uint8  \n",
            "dtypes: float64(2), int64(3), object(4), uint8(4)\n",
            "memory usage: 14.5+ MB\n"
          ],
          "name": "stdout"
        }
      ]
    },
    {
      "cell_type": "code",
      "metadata": {
        "colab": {
          "base_uri": "https://localhost:8080/",
          "height": 295
        },
        "id": "rLaMIt9fKa4v",
        "outputId": "4fa30f24-be01-469f-f9c7-15aa47651c15"
      },
      "source": [
        "#analyze distribution and probability plots\n",
        "import seaborn as sns\n",
        "from scipy import stats\n",
        "import matplotlib.pyplot as plt\n",
        "\n",
        "prob = stats.probplot((train_set['price']), plot=plt)"
      ],
      "execution_count": 21,
      "outputs": [
        {
          "output_type": "display_data",
          "data": {
            "image/png": "[encoded data removed]",
            "text/plain": [
              "<Figure size 432x288 with 1 Axes>"
            ]
          },
          "metadata": {
            "tags": [],
            "needs_background": "light"
          }
        }
      ]
    },
    {
      "cell_type": "code",
      "metadata": {
        "colab": {
          "base_uri": "https://localhost:8080/",
          "height": 350
        },
        "id": "qZyh_GxWNNOC",
        "outputId": "b87512c3-14dd-4d04-c4a4-f5ef1b688238"
      },
      "source": [
        "sns.distplot(train_set['price'])"
      ],
      "execution_count": null,
      "outputs": [
        {
          "output_type": "stream",
          "text": [
            "/usr/local/lib/python3.6/dist-packages/seaborn/distributions.py:2551: FutureWarning: `distplot` is a deprecated function and will be removed in a future version. Please adapt your code to use either `displot` (a figure-level function with similar flexibility) or `histplot` (an axes-level function for histograms).\n",
            "  warnings.warn(msg, FutureWarning)\n"
          ],
          "name": "stderr"
        },
        {
          "output_type": "execute_result",
          "data": {
            "text/plain": [
              "<matplotlib.axes._subplots.AxesSubplot at 0x7f8158d79e80>"
            ]
          },
          "metadata": {
            "tags": []
          },
          "execution_count": 25
        },
        {
          "output_type": "display_data",
          "data": {
            "image/png": "[encoded data removed]",
            "text/plain": [
              "<Figure size 432x288 with 1 Axes>"
            ]
          },
          "metadata": {
            "tags": [],
            "needs_background": "light"
          }
        }
      ]
    },
    {
      "cell_type": "code",
      "metadata": {
        "colab": {
          "base_uri": "https://localhost:8080/",
          "height": 295
        },
        "id": "iGmZqAR_jI1j",
        "outputId": "9f9cf93f-ed72-42ef-c8bb-d20d8726a8c4"
      },
      "source": [
        "prob = stats.probplot((train_set['unixReviewTime']), plot=plt)"
      ],
      "execution_count": null,
      "outputs": [
        {
          "output_type": "display_data",
          "data": {
            "image/png": "[encoded data removed]",
            "text/plain": [
              "<Figure size 432x288 with 1 Axes>"
            ]
          },
          "metadata": {
            "tags": [],
            "needs_background": "light"
          }
        }
      ]
    },
    {
      "cell_type": "code",
      "metadata": {
        "colab": {
          "base_uri": "https://localhost:8080/",
          "height": 350
        },
        "id": "zSEc6fktjN6N",
        "outputId": "d53575b5-197d-46cc-fa7e-5e8ae384caf7"
      },
      "source": [
        "sns.distplot((train_set['unixReviewTime']))"
      ],
      "execution_count": null,
      "outputs": [
        {
          "output_type": "stream",
          "text": [
            "/usr/local/lib/python3.6/dist-packages/seaborn/distributions.py:2551: FutureWarning: `distplot` is a deprecated function and will be removed in a future version. Please adapt your code to use either `displot` (a figure-level function with similar flexibility) or `histplot` (an axes-level function for histograms).\n",
            "  warnings.warn(msg, FutureWarning)\n"
          ],
          "name": "stderr"
        },
        {
          "output_type": "execute_result",
          "data": {
            "text/plain": [
              "<matplotlib.axes._subplots.AxesSubplot at 0x7f8158e785f8>"
            ]
          },
          "metadata": {
            "tags": []
          },
          "execution_count": 27
        },
        {
          "output_type": "display_data",
          "data": {
            "image/png": "[encoded data removed]",
            "text/plain": [
              "<Figure size 432x288 with 1 Axes>"
            ]
          },
          "metadata": {
            "tags": [],
            "needs_background": "light"
          }
        }
      ]
    },
    {
      "cell_type": "code",
      "metadata": {
        "colab": {
          "base_uri": "https://localhost:8080/",
          "height": 269
        },
        "id": "eolUCKm_xxvT",
        "outputId": "856cff09-8496-44e6-c9ac-46510eff8fe8"
      },
      "source": [
        "sns.boxplot(y = train_set['unixReviewTime'])"
      ],
      "execution_count": null,
      "outputs": [
        {
          "output_type": "execute_result",
          "data": {
            "text/plain": [
              "<matplotlib.axes._subplots.AxesSubplot at 0x7fe79e19be80>"
            ]
          },
          "metadata": {
            "tags": []
          },
          "execution_count": 305
        },
        {
          "output_type": "display_data",
          "data": {
            "image/png": "[encoded data removed]",
            "text/plain": [
              "<Figure size 432x288 with 1 Axes>"
            ]
          },
          "metadata": {
            "tags": []
          }
        }
      ]
    },
    {
      "cell_type": "code",
      "metadata": {
        "colab": {
          "base_uri": "https://localhost:8080/",
          "height": 328
        },
        "id": "0kZdFBET9H0r",
        "outputId": "7c042ff7-b3aa-4b75-a402-2900bdba5b87"
      },
      "source": [
        "train_set.corr()"
      ],
      "execution_count": null,
      "outputs": [
        {
          "output_type": "execute_result",
          "data": {
            "text/html": [
              "<div>\n",
              "<style scoped>\n",
              "    .dataframe tbody tr th:only-of-type {\n",
              "        vertical-align: middle;\n",
              "    }\n",
              "\n",
              "    .dataframe tbody tr th {\n",
              "        vertical-align: top;\n",
              "    }\n",
              "\n",
              "    .dataframe thead th {\n",
              "        text-align: right;\n",
              "    }\n",
              "</style>\n",
              "<table border=\"1\" class=\"dataframe\">\n",
              "  <thead>\n",
              "    <tr style=\"text-align: right;\">\n",
              "      <th></th>\n",
              "      <th>overall</th>\n",
              "      <th>price</th>\n",
              "      <th>reviewYear</th>\n",
              "      <th>unixReviewTime</th>\n",
              "      <th>reviewHash</th>\n",
              "      <th>Classical</th>\n",
              "      <th>Dance &amp; Electronic</th>\n",
              "      <th>Jazz</th>\n",
              "      <th>Pop</th>\n",
              "    </tr>\n",
              "  </thead>\n",
              "  <tbody>\n",
              "    <tr>\n",
              "      <th>overall</th>\n",
              "      <td>1.000000</td>\n",
              "      <td>0.038009</td>\n",
              "      <td>0.153167</td>\n",
              "      <td>0.148225</td>\n",
              "      <td>0.004677</td>\n",
              "      <td>0.036568</td>\n",
              "      <td>0.001006</td>\n",
              "      <td>0.045631</td>\n",
              "      <td>0.017476</td>\n",
              "    </tr>\n",
              "    <tr>\n",
              "      <th>price</th>\n",
              "      <td>0.038009</td>\n",
              "      <td>1.000000</td>\n",
              "      <td>0.119610</td>\n",
              "      <td>0.119640</td>\n",
              "      <td>-0.002037</td>\n",
              "      <td>0.083865</td>\n",
              "      <td>-0.024889</td>\n",
              "      <td>0.039495</td>\n",
              "      <td>-0.008746</td>\n",
              "    </tr>\n",
              "    <tr>\n",
              "      <th>reviewYear</th>\n",
              "      <td>0.153167</td>\n",
              "      <td>0.119610</td>\n",
              "      <td>1.000000</td>\n",
              "      <td>0.996909</td>\n",
              "      <td>-0.002055</td>\n",
              "      <td>0.029953</td>\n",
              "      <td>-0.074997</td>\n",
              "      <td>0.070169</td>\n",
              "      <td>0.212449</td>\n",
              "    </tr>\n",
              "    <tr>\n",
              "      <th>unixReviewTime</th>\n",
              "      <td>0.148225</td>\n",
              "      <td>0.119640</td>\n",
              "      <td>0.996909</td>\n",
              "      <td>1.000000</td>\n",
              "      <td>-0.001903</td>\n",
              "      <td>0.031867</td>\n",
              "      <td>-0.076891</td>\n",
              "      <td>0.069297</td>\n",
              "      <td>0.211495</td>\n",
              "    </tr>\n",
              "    <tr>\n",
              "      <th>reviewHash</th>\n",
              "      <td>0.004677</td>\n",
              "      <td>-0.002037</td>\n",
              "      <td>-0.002055</td>\n",
              "      <td>-0.001903</td>\n",
              "      <td>1.000000</td>\n",
              "      <td>-0.000096</td>\n",
              "      <td>-0.000486</td>\n",
              "      <td>0.001597</td>\n",
              "      <td>-0.001168</td>\n",
              "    </tr>\n",
              "    <tr>\n",
              "      <th>Classical</th>\n",
              "      <td>0.036568</td>\n",
              "      <td>0.083865</td>\n",
              "      <td>0.029953</td>\n",
              "      <td>0.031867</td>\n",
              "      <td>-0.000096</td>\n",
              "      <td>1.000000</td>\n",
              "      <td>-0.083394</td>\n",
              "      <td>-0.106902</td>\n",
              "      <td>-0.297996</td>\n",
              "    </tr>\n",
              "    <tr>\n",
              "      <th>Dance &amp; Electronic</th>\n",
              "      <td>0.001006</td>\n",
              "      <td>-0.024889</td>\n",
              "      <td>-0.074997</td>\n",
              "      <td>-0.076891</td>\n",
              "      <td>-0.000486</td>\n",
              "      <td>-0.083394</td>\n",
              "      <td>1.000000</td>\n",
              "      <td>-0.085649</td>\n",
              "      <td>-0.238751</td>\n",
              "    </tr>\n",
              "    <tr>\n",
              "      <th>Jazz</th>\n",
              "      <td>0.045631</td>\n",
              "      <td>0.039495</td>\n",
              "      <td>0.070169</td>\n",
              "      <td>0.069297</td>\n",
              "      <td>0.001597</td>\n",
              "      <td>-0.106902</td>\n",
              "      <td>-0.085649</td>\n",
              "      <td>1.000000</td>\n",
              "      <td>-0.306052</td>\n",
              "    </tr>\n",
              "    <tr>\n",
              "      <th>Pop</th>\n",
              "      <td>0.017476</td>\n",
              "      <td>-0.008746</td>\n",
              "      <td>0.212449</td>\n",
              "      <td>0.211495</td>\n",
              "      <td>-0.001168</td>\n",
              "      <td>-0.297996</td>\n",
              "      <td>-0.238751</td>\n",
              "      <td>-0.306052</td>\n",
              "      <td>1.000000</td>\n",
              "    </tr>\n",
              "  </tbody>\n",
              "</table>\n",
              "</div>"
            ],
            "text/plain": [
              "                     overall     price  ...      Jazz       Pop\n",
              "overall             1.000000  0.038009  ...  0.045631  0.017476\n",
              "price               0.038009  1.000000  ...  0.039495 -0.008746\n",
              "reviewYear          0.153167  0.119610  ...  0.070169  0.212449\n",
              "unixReviewTime      0.148225  0.119640  ...  0.069297  0.211495\n",
              "reviewHash          0.004677 -0.002037  ...  0.001597 -0.001168\n",
              "Classical           0.036568  0.083865  ... -0.106902 -0.297996\n",
              "Dance & Electronic  0.001006 -0.024889  ... -0.085649 -0.238751\n",
              "Jazz                0.045631  0.039495  ...  1.000000 -0.306052\n",
              "Pop                 0.017476 -0.008746  ... -0.306052  1.000000\n",
              "\n",
              "[9 rows x 9 columns]"
            ]
          },
          "metadata": {
            "tags": []
          },
          "execution_count": 28
        }
      ]
    },
    {
      "cell_type": "code",
      "metadata": {
        "id": "Nbc-hjYqROhN"
      },
      "source": [
        "#clean the text data\n",
        "\n",
        "import html \n",
        "#remove html characters\n",
        "train_set['summary'] = train_set['summary'].fillna('').apply(html.unescape)\n",
        "train_set['reviewText'] = train_set['reviewText'].fillna('').apply(html.unescape)"
      ],
      "execution_count": 15,
      "outputs": []
    },
    {
      "cell_type": "code",
      "metadata": {
        "id": "Myxb6Ns09H0r"
      },
      "source": [
        "import re as re\n",
        "\n",
        "def removeHtml(row):\n",
        "    #remove html tags\n",
        "    cleaned = re.sub('<.*?>','',row)\n",
        "    #remove \\n characters\n",
        "    cleaned = re.sub('\\n', '', cleaned)\n",
        "    return cleaned\n",
        "\n",
        "train_set['reviewText'] = train_set['reviewText'].apply(lambda a : removeHtml(a))"
      ],
      "execution_count": 16,
      "outputs": []
    },
    {
      "cell_type": "code",
      "metadata": {
        "colab": {
          "base_uri": "https://localhost:8080/",
          "height": 479
        },
        "id": "AVKKrCsjURQT",
        "outputId": "9de29775-d252-4ef3-8584-bd269fe82efb"
      },
      "source": [
        "#check the cleaned text data\n",
        "with pd.option_context('display.max_colwidth', None):\n",
        "  display(train_set.reviewText.head(25))"
      ],
      "execution_count": null,
      "outputs": [
        {
          "output_type": "display_data",
          "data": {
            "text/plain": [
              "0                                                                                                                                                                                                                                                                                                                                                                                                                                                                                                                                                                                                                                                     So is Katy Perry's new album \"Teenage Dream\" contrived, derived and unoriginal?  The answer to all three would be a resounding yes! So why on earth in spite of this fact is her new album so unbelievably great????  Well, the answer may be complicated if not impossible to fully answer.  The simple brilliance of Katy Perry would be simplicity and self awareness....thus the brilliant cover art of her nude in clouds that reveal Katy for what she truly is...an absolutely gorgeous young woman with very a simple, straight forward message....give them what they want.  And Katy delivers!!!....Take a song like \"Pearl\" ...which I believe happens to be the gem of the entire album....it's a lush, gaudy, maudlin, tribute to \"woman power\" and although the lyrics are silly beyond belief,  it may be just the song many girls need these days.  Another winner here is \"who am I living for?\".....I really liked this song, as it has a very European feel to it and it has another very simplistic but resonant message that many will relate to.  Other stand-outs include the track \"Firework\" which sounds reminiscent of just about any track on LeAnn Rimes \"Twisted Angel\" album and the fun as hell yet most irresponsible track  \"Last Friday Night\".  Immediate hits such as \"California Gurls\" are OK and fun but overheard at this point so they will be most likely skipped over..but the beauty is that there are plenty of other addictive tracks in waiting! Finally, Kudos also to pristine production, as the album sounds loud, clear and near when headphones are one.  Well done Katy!!!\n",
              "1                                                                                                                                                                                                                                                                                                                                                                                                                                                                                                                                                                                                                                                                                                                                                                                                                                                                                                                                                                                                                                                                                                                                                                                                                                                                                                                                                                                                                                                                                                                       I got this CD almost 10 years ago, and given the passage of time, I still think it is amazing.  My tastes for rock developed with the grunge bands in the '90's - Nirvana, Soundgarden, Alice in Chains.  Something like Human definitely sounds like a derivative of grunge, particularly Alice in Chains.  Scallions voice sounds eerily similar to Staley on certain tracks (Scar, Easy).  Structure wise the songs are very dynamic, catchy, and enjoyable.  I feel like the weakest songs were released to radio (Bad Day, Innocent) but they are more than compensated for with the standouts Solace, Easy, Prove, Empty Spaces, and Down.  For anyone who enjoys the grungy sound of yesteryear, or just simply loves rocking out, this is an essential.\n",
              "2                                                                                                                                                                                                                                                                                                                                                                                                                                                                                                                                                                                                                                                                                                                                                                                                                                                                                                                                                                                                                                                                                                                                                                                                                                                                                                                                                                                                                                                                                                         I REALLY enjoy this pairing of Anderson and Ponty. The music is very much what I would have expected from these two gifted individuals. I just wish that they had not added all of the \"groovy\" psychedelic effects onto the DVD concert performance. I realize that both of these guys are \"of that age\", but still...this music and these performances can stand on their own, without adding all of the razzle dazzle. Anderson and Yes have the same problem with their \"Keys to Ascension\" video...the music is stunning, you're into the flow of it, and then all of a sudden you're bombarded with these aerialists performing on multi-colored backgrounds in slow-motion...for SOME reason. So, enjoy the aural experience time and again, and watch the DVD once...\n",
              "3                                                                                                                                                                                                                                                                                                                                                                                                                                                                                                                                                                                                                                                                                                                                                                                                                                                                                                                                                                                                                                                                                                                                                                                                                                                                                                                                                                                                                                                                                                                                                                                                                                                                                                                                                                                                                                                                                                                                                                                                                                                                                                                                                                                                                  Finally got it . It was everything thought it would be . Great music\n",
              "4                                                                                                                                                                                                                                                                                                                                                                                                                                                                                                                                                                                                                                                                                                                                                                                                                                                                                                                                                                                                                                                                                                                                                                                                                                                                                                                                                                                                                                                                                                                                                                                                                                                                                                                                                                                                                                                                                                                                                                                                                                                                                                                                                                Look at all star cast.  Outstanding record, play Impressions, 4 and half stars.  Right behind Bartz' Coltrane tribute.\n",
              "5                                                                                                                                                                                                                                                                                                                                                                                                                                                                                                                                                                                                                                                                                                                                                                                                                                                                                                                                                                                                                                                                                                                                                                                                                                                                                                                                                                                                                                                                                                                                                                                                                                                                                                                                                                                                                                                                                                                                                                                                                                                                                                                                                                                                                                                                                  o.k.\n",
              "6                                                                                                                                                                                                                                                                                                                                                                                                                                                                                                                                                                                                                                                                                                                                                                                                                                                                                                                                                                                                                                                                                                                                                                                                                                                                                                                                                                                                                                                                                                                                                                                                                                                                                                                                                                                                                                                                                                                                                                                                                                                                                                                                          Bought this album while sitting at a Boney James concert in Chicago!  Listened to it on the way home!  I would give it 100 stars if I could!\n",
              "7                                                                                                                                                                                                                                                                                                                                                                                                                                                                                                                                                                                                                                                                                                                                                                                                                                                                                                                                                                                                                                                                                                                                                                                                                                                                                                                                                                                                                                                                                                                                                                                                                                                                                                                                                                                                                                                                                                                                                                                                                                                                                                                                                                                                                                                                                 great\n",
              "8                                                                                                                                                                                                                                                                                                                                                                                                                                                                                                                                                                                                                                                                                                                                                                                                                                                                                                                                                                                                                                                                                                                                                                                                                                                                                                                                                                                                                                                                                                                                                                                                                                                                                                                                                                                                                                                                                                                                                                                                                                                                                                                                   Kelly sounds great on this CD  She is back.  I don't know what else to say.  The last CD hated it.  This one I would buy again and give to a friend\n",
              "9                                                                                                                                                                                                                                                                                                                                                                                                                                                                                                                                                                                                                                                                                                                                                                                                                                                                                                                                                                                                                                                                                                                                                                                                                                                                                                                                                                                                                                                                                                                                                                                                                                                                                                                                                                                                                                                                                                                                                                                                            Brahms most famous concerto (Violin Concerto) and his last sublime work for orchestra (Concerto for Violin & Cello) both get top notch treatment in this fine recording. Stern and Rose are awesome! Rich and uniform recording. Ormandy's mighty baton. Hats off to Sony!\n",
              "10                                                                                                                                                                                                                                                                                                                                                                                                                                                                                                                                                                                                                                                                                                                                                                                                                                                                                                                                                                                                                                                                                                                                                                                                                                                                                                                                                                                                                                                                                                                                                                                                                                                                                                                                                                                                                                                                                                         Me personally I am not a big fan of Pearl Jam they have some good songs on this album like Even Flow and Jeremy but I pesonally find the rest of the songs are uncreative and all sound basically the same. But I can see why people like it but it just doesn't appeal to me. So I say go buy it and judge it for yourself. Even Flow pretty much makes it worth the money.\n",
              "11                                                                                                                                                                                                                                                                                                                                                                                                                                                                                                                                                                                                                                                                                                                                                              Katchen's performace throughout this collection are excellent. Brahms integrates many of Schumann's,Bach's and Beethovens compositional ideas into his own works. He is a master of the appoggiatura(suspension of the dominant chord).And the ghosts of Bach,Schumann,and Beethoven appear at intervals throughout this collection of his piano works. The VARIATIONS ON AN ORIGINAL THEME is an ethereal experience,and the Op. 09 VARIATIONS ON A THEME BY SCHUMANN, composed after his death,Brahms's pathos,especialy in the slower variations, make you aware of his sadness of Schumann passing, as there  is vivid sense of despair and remorse you can hear throughout. It is well documented the profound influence Schumann had on Brahms's compositional process. OP.76 is a passionate performance by Katchen. You also have short piano works culminated in Op116,Op 117,Op. 118,which includes the great masterpiece in Ebminor,and Op. 119. The Pagganini Variations,Variations on a theme by Haydn,the Ballads Op. 10. And both volumes of the HUNGARIAN DANCES,the 2 Rhapsody's,and VARATIONS ON A THEME BY HANDEL.It quite remarkable that such music could be created by such a young man in the astonishing Sonatas,OP.1,OP.2,and OP.5. The slow movements in all three sonates are very inspiring,and heart fealt. It makes you glad to be alive in order to hear such remarkable music. A well balanced performance throughout. If your a Brahms lover,this is a must for your collection. Enjoy\n",
              "12                                                                                                                                                                                                                                                                                                                                                                                                                                                                                                                                                                                                                                                                                                                                                                                                                                                                                                                                                                                                                                                                                                                                                                                                                                                                                                                                                                                                                                                                                                                                                                                                                                                                                                                                                                                                                                                                                                                                                                                                                                                                                                                                                                                                                                                                                 good\n",
              "13                                                                                                                                                                                                                                                                                                                                                                                                                                                                                                                                                                                                                                                                                                                                                                                                                                                                                                                                                                                                                                                                                                                                                                                                                                                                                                                                                                                                                                                                                                                                                                                                                                                                                                                                                                                                                                                                                                                                                                                                                                                                                                                                                                                                                                                                         very good cd\n",
              "14                                                                                                                                                                                                                                                                                                                                                                                                                                                                                                                                                                                                                                                                                                                                                                                                                                                                                                                                                                                                                                                                                                                                                                                                                                                                                                                                                                                                                                                                                                                                                                                                                                                                                                                                                                                                                                                                                                                                                                                                                                                                                                                                                                                                                                                                      She is my fave!\n",
              "15                                                                                                                                                                                                                                                                                                                                                                                                                                                                                                                                                                                                                                                I had bought Fat of the Land back when it first came out and loved it, but I never really got to buying the rest of the Prodigy's albums.  Finally, Amazon.com had this reissue as one of its featured recommendations, and I decided to give it a try.  All I have to say is that was a really good move on my part.This first thing I thought when listening to this disk was, \"Wow, the instruments on this album haven't aged well at all.\"  And that is true...a lot of the sound seems dated.  But the second thing I thought when listening to this album was that the beats sound just as good, if not better, than anything being put out today.  Talk about some crazy dance beats.  Everything about this album is supercharged.  Let's just say that this album hasn't strayed far from my cd player since I bought it.Of course, what's new about this reissue is that there is a bonus disk featuring B-sides and remixes not on the original album. Expanded is just about as great as the Experience disk, with the only problem being that the songs don't flow together like on Experience.  Otherwise, there is some great stuff on that disk.All and all, a five star purchase.  I could see some of these songs being played on the club floor today, and no one would be the wiser because they would be too busy trying to keep up with the killer beat.  Yes, the instruments sound a little dated, but the music shall remain timeless.  If you are a Prodigy fan, you already know this.  I you think you might be a Prodigy fan, pick up this album and you will know you are a Prodigy fan.  Great stuff!\n",
              "16                                                                                                                                                                                                                                                                                                                                                                                                                                                                                                                                                                                                                                                                                                                                                                                                                                                                                                                                                                                                                                                                                                                                                                                                                                                                                                                                                                                                                                                                                                                                                                                                                                                                                                                                                                                                                                                                     Wow, I had this in the late 60s, I saw Deaf Genius dance to it on, \"Dancing with the Stars\" giving new meaning to my old friends and their harmonies. Well like my Mom said as a teen, That's good music, not any screaming and yelling, and I like the lyrics. This is the 3rd purchase, just makes me feel good. BTW Nyles DeMarco was the deaf guy, but I heard his interpretation and he won. And I learned.\n",
              "17    The overtures from Rossini's many operas have been recorded very frequently, and there are quite a few discs available, all with different selections included. When I obtained this CD back in the early '90's, it had received Gramophone's highest recommendation - their review said that \"the recording is as vivid as the music. This is a disc to bring a smile to the lips and make you appreciate life\". I have enjoyed it since that time - the performances are energetic and the recording quality is excellent.Overtures included in this disc are:- La sala di seta- Il signor Bruschino- L'Italiana in Algieri- Il barbiere di Siviglia- La gazza ladra- Semiramide- Guillaume TellMy other recording of Rossini's overtures is Rossini: Overtures, with the Orpheus Chamber Orchestra performing a different selection of overtures, another very enjoyable disc (overtures included in that disc are: Tancredi, L 'Italiana in Algeri, L 'inganno felice, La scala di seta, Il Barbiere di Siviglia, Il Signor Bruschino, La cambia di matrimony, Il Turco in Italia). This was also a Gramophone recommendation and is also in the 2008 Penguin guide as a recommended CD.As a final alternative for consideration, Rossini: Complete Overtures includes all of Rossini's overtures, with Neville Marriner conducting the Academy of St. Martin-in-the-Fields. This is a 3 CD collection and if you want to get everything, it is probably the best choice, being the current Penguin recommendation and having it all together and with very fine performances and recording quality.-----------------------Added Notes 4/12/15:I've just realized that this recording is listed on Amazon multiple times (not unusual). I'm therefore adding to this review the links to the various listings on Amazon, since each will have sellers offering this recording for different prices, to make it a bit easier for locating the best price for this recording:- Rossini: Overtures (the listing where my review was first posted on 4/23/13)- Rossini: Overtures- ROSSINI: OVERTURES(24bit) (sellers all in Japan, recording may be a higher quality digital version?)- Rossini: Overtures- Rossini - Overtures / London Classical Players  Sir Roger Norrington\n",
              "18                                                                                                                                                                                                                                                                                                                                                                                                                                                                                                                                                                                                                                                                                                                                                                                                                                                                                                                                                                                                                                                                                                                                                                                                                                                                                                                                                                                                                                                                                                                                                                                                                                                                                                                                                                                                                                                                                                                                                                                                                                                                                                                                                                                                                                      I enjoy this at least once a week.  No regrets.\n",
              "19                                                                                                                                                                                                                                                                                                                                                                                                                                                                                                                                                                                                                                                                                                                                                                                                                                                                                                                                                                                                                                                                                                                                                                                                                                                                                                                                                                                                                                                                                                                                                                                                                                                                                                                                                                                                                                                                                                                                                                                                                                                                                                                                                                                                                                       spectacular performance by keyboard wizardess.\n",
              "20                                                                                                                                                                                                                                                                                                                                                                                                                                                                                                                                                                                                                                                                                                                                                                                                                                                                                                                                                                                                                                                                                                                                                                                                                                                                                                                                                                                                                                                                                                                                                                                                                                                                                                                                                                                                                                                                                                                                                                                                                                                                                                                                                                 Jackie Ryan is a good jazz singer and teaming up with the great pianist Cyrus  Chestnut makes for a good jazz album.\n",
              "21                                                                                                                                                                                                                                                                                                                                                                                                                                                                                                                                                                                                                                                                                                                                                                                                                                                                                                                                                                                                                                                                                                                                                                                                                                                                                                                                                                                                                                                                                                                                                                                                                                                                                                                                                                                                                                                                                                                                                                                                                                                                                                                                                                                                                                                                         Really Great\n",
              "22                                                                                                                                                                                                                                                                                                                                                                                                                                                                                                                                                                                                                                                                                                                                                                                                                                                                                                                                                                                                                                                                                                                                                                                                                                                                                                                                                                                                                                                                                                                                                                                                                                                                                                           I played this CD through several times a day for about two months when I first bought it. Virtually every song is great, especially Lapdance, Brain, Truth or Dare, Am I High and Rock Star. Hard driving hybrid of rap and punk, but hugely danceable, very funky. Lyrics are angry but quite intelligent. As a middleclass white guy pushing 40, I could totally relate to most of what they were talking about, unlike the other stuff that typifies most rap. Even preaches against drugs in a couple of songs, mom and dad will be happy to note. Highly recommended.\n",
              "23                                                                                                                                                                                                                                                                                                                                                                                                                                                                                                                                                                                                                                                                                                                                                                                                                                                                                                                                                                                                                                                                                                                                                                                                                                                                                                                                                                                                                                                                                                                                                                                                                                                                                                                                                                                                                                                                                                                                                                                                                                                                                                                                                                 bACK IN TIME is Now the present. A great collection of the Early Days and the British Invasion Era.wow and then some\n",
              "24                                                                                                                                                                                                                                                                                                                                                                                                                                                                                                                                                                                                                                                                                                                                                                                                                                                                                                                                                                                                                                                                                                                                                                                                                                                                                                                                                                                                                                                                                                                                                                                                                                                             My wife and I were listening to some Tegan and Sara and decided we wanted to go on a T&S binge! So we bought 'Sainthood', 'This Business of Art', 'If It Was You', 'The Con', and 'So Jealous'. Then shortly after, Amazon had a one day special on their newest, 'Heartthrob' for $2.99, and we added that. We like listening to them on shuffle and hearing their different styles mixed together. You can hear different influences, but T&G always have great harmony, lyrics and bounce that are all their own. This is fun alt-pop that also has depth and heart. Make Tegan and Sara a part of your musical life!\n",
              "Name: reviewText, dtype: object"
            ]
          },
          "metadata": {
            "tags": []
          }
        }
      ]
    },
    {
      "cell_type": "code",
      "metadata": {
        "id": "U19HS0lYjxNQ"
      },
      "source": [
        "#These extra features did not improve the model\n",
        "\n",
        "#train_set['summary_cnt'] = train_set['summary'].str.len()\n",
        "#train_set['review_cnt'] = train_set['reviewText'].str.len()\n",
        "#train_set['summary_words'] = train_set['summary'].str.split().str.len()\n",
        "#train_set['review_words'] = train_set['reviewText'].str.split().str.len()\n",
        "#train_set['summary_chr_per_wrd'] = train_set['summary_cnt']/train_set['summary_words']\n",
        "#train_set['review_chr_per_wrd'] = train_set['review_cnt']/train_set['review_words']\n",
        "\n",
        "#train_set = train_set.fillna(0)\n",
        "\n",
        "#train_set['summary_num'] = train_set['summary'].apply(lambda x: len([x for x in x.split() if x.isdigit()]))\n",
        "\n",
        "#train_set['review_num'] = train_set['reviewText'].apply(lambda x: len([x for x in x.split() if x.isdigit()]))\n",
        "\n",
        "#train_set.info()"
      ],
      "execution_count": null,
      "outputs": []
    },
    {
      "cell_type": "code",
      "metadata": {
        "colab": {
          "base_uri": "https://localhost:8080/"
        },
        "id": "BeKesL5xhKi2",
        "outputId": "e0781fa9-18d3-4ba1-a737-add32da4b981"
      },
      "source": [
        "import nltk\n",
        "nltk.download('punkt')\n",
        "from nltk.corpus import stopwords\n",
        "nltk.download('stopwords')\n",
        "from nltk.tokenize import word_tokenize\n",
        "\n",
        "stopWords = stopwords.words('english')"
      ],
      "execution_count": null,
      "outputs": [
        {
          "output_type": "stream",
          "text": [
            "[nltk_data] Downloading package punkt to /root/nltk_data...\n",
            "[nltk_data]   Unzipping tokenizers/punkt.zip.\n",
            "[nltk_data] Downloading package stopwords to /root/nltk_data...\n",
            "[nltk_data]   Unzipping corpora/stopwords.zip.\n"
          ],
          "name": "stdout"
        }
      ]
    },
    {
      "cell_type": "code",
      "metadata": {
        "colab": {
          "base_uri": "https://localhost:8080/"
        },
        "id": "_zc3k1kBc8xl",
        "outputId": "0b6a7638-6c57-4742-f603-ddf3fb6d41d7"
      },
      "source": [
        "#seperate each word (separated by spaces) and get the total number of words as well as top 50 words\n",
        "reviews = train_set.reviewText.str.cat(sep=' ')\n",
        "words = word_tokenize(reviews)\n",
        "dictionary = set(words)\n",
        "print(len(dictionary))\n",
        "frequency = nltk.FreqDist(words)\n",
        "sorted(frequency,key=frequency.__getitem__, reverse=True)[0:50]"
      ],
      "execution_count": null,
      "outputs": [
        {
          "output_type": "stream",
          "text": [
            "468416\n"
          ],
          "name": "stdout"
        },
        {
          "output_type": "execute_result",
          "data": {
            "text/plain": [
              "[',',\n",
              " '.',\n",
              " 'the',\n",
              " 'and',\n",
              " 'of',\n",
              " 'a',\n",
              " 'to',\n",
              " 'is',\n",
              " 'I',\n",
              " \"''\",\n",
              " '``',\n",
              " \"'s\",\n",
              " 'this',\n",
              " 'it',\n",
              " 'in',\n",
              " 'that',\n",
              " 'with',\n",
              " 'on',\n",
              " 'album',\n",
              " 'The',\n",
              " 'for',\n",
              " 'as',\n",
              " 'you',\n",
              " 'are',\n",
              " 'but',\n",
              " ')',\n",
              " '!',\n",
              " '(',\n",
              " 'was',\n",
              " \"n't\",\n",
              " 'have',\n",
              " 'not',\n",
              " 'like',\n",
              " 'one',\n",
              " 'music',\n",
              " 'from',\n",
              " 'songs',\n",
              " 'song',\n",
              " 'be',\n",
              " 'all',\n",
              " 'has',\n",
              " 'This',\n",
              " 'by',\n",
              " 'more',\n",
              " 'It',\n",
              " 'his',\n",
              " 'great',\n",
              " 'my',\n",
              " 'an',\n",
              " 'they']"
            ]
          },
          "metadata": {
            "tags": []
          },
          "execution_count": 92
        }
      ]
    },
    {
      "cell_type": "code",
      "metadata": {
        "colab": {
          "base_uri": "https://localhost:8080/"
        },
        "id": "AWENsYPkhUxy",
        "outputId": "9633cf91-e37d-4015-d2b8-5d308af161e3"
      },
      "source": [
        "summaries = train_set.summary.str.cat(sep=' ')\n",
        "words = word_tokenize(summaries)\n",
        "dictionary = set(words)\n",
        "print(len(dictionary))\n",
        "frequency = nltk.FreqDist(words)\n",
        "sorted(frequency,key=frequency.__getitem__, reverse=True)[0:50]"
      ],
      "execution_count": null,
      "outputs": [
        {
          "output_type": "stream",
          "text": [
            "55717\n"
          ],
          "name": "stdout"
        },
        {
          "output_type": "execute_result",
          "data": {
            "text/plain": [
              "['!',\n",
              " 'Stars',\n",
              " 'Five',\n",
              " 'the',\n",
              " '.',\n",
              " ',',\n",
              " '...',\n",
              " 'of',\n",
              " 'a',\n",
              " 'A',\n",
              " 'and',\n",
              " \"'s\",\n",
              " 'The',\n",
              " 'I',\n",
              " 'to',\n",
              " 'is',\n",
              " 'Great',\n",
              " 'album',\n",
              " 'it',\n",
              " 'this',\n",
              " 'for',\n",
              " 'great',\n",
              " '?',\n",
              " 'but',\n",
              " 'CD',\n",
              " 'good',\n",
              " 'best',\n",
              " \"''\",\n",
              " 'in',\n",
              " '``',\n",
              " 'music',\n",
              " 'Good',\n",
              " 'Four',\n",
              " 'This',\n",
              " 'you',\n",
              " 'not',\n",
              " \"n't\",\n",
              " 'with',\n",
              " '-',\n",
              " 'from',\n",
              " 'on',\n",
              " 'Album',\n",
              " 'Not',\n",
              " 'Best',\n",
              " 'One',\n",
              " 'It',\n",
              " 'as',\n",
              " 'one',\n",
              " 'like',\n",
              " 'that']"
            ]
          },
          "metadata": {
            "tags": []
          },
          "execution_count": 93
        }
      ]
    },
    {
      "cell_type": "code",
      "metadata": {
        "id": "XO0l4zTOi4BP"
      },
      "source": [
        "#get the counts of each word\n",
        "count = train_set['reviewText'].str.split(expand=True).stack().value_counts()\n",
        "print (count)"
      ],
      "execution_count": null,
      "outputs": []
    },
    {
      "cell_type": "code",
      "metadata": {
        "id": "p5JCloGfjytr"
      },
      "source": [
        "count = train_set['summary'].str.split(expand=True).stack().value_counts()\n",
        "print (count)"
      ],
      "execution_count": null,
      "outputs": []
    },
    {
      "cell_type": "code",
      "metadata": {
        "id": "h3mMSqHdlILa"
      },
      "source": [
        "#Removing punctuation, stopwords and stemming words did not help improve the model\n",
        "\n",
        "#train_set['summary'] = train_set['summary'].str.replace('[^\\w\\s]','') \n",
        "#train_set['summary'] = train_set['summary'].apply(lambda a: \" \".join(a for a in a.split() if a not in stopWords))\n",
        "#train_set['summary'] = train_set['summary'].apply(lambda a: \" \".join(a.lower() for a in a.split()))\n",
        "\n",
        "#from nltk.stem import PorterStemmer\n",
        "#stemmer = PorterStemmer()\n",
        "#train_set['summary'] = train_set['summary'].apply(lambda a: \" \".join([stemmer.stem(word) for word in a.split()]))"
      ],
      "execution_count": null,
      "outputs": []
    },
    {
      "cell_type": "code",
      "metadata": {
        "id": "9JpHJ7d3oDpC"
      },
      "source": [
        "#train_set['reviewText'] = train_set['reviewText'].str.replace('[^\\w\\s]','') \n",
        "#train_set['reviewText'] = train_set['reviewText'].apply(lambda a: \" \".join(a for a in a.split() if a not in stop))\n",
        "#train_set['reviewText'] = train_set['reviewText'].apply(lambda a: \" \".join(a.lower() for a in a.split()))\n",
        "\n",
        "#from nltk.stem import PorterStemmer\n",
        "#stemmer = PorterStemmer()\n",
        "#train_set['reviewText'] = train_set['reviewText'].apply(lambda a: \" \".join([stemmer.stem(word) for word in a.split()]))"
      ],
      "execution_count": null,
      "outputs": []
    },
    {
      "cell_type": "code",
      "metadata": {
        "id": "5dT29NQKchsn",
        "colab": {
          "base_uri": "https://localhost:8080/"
        },
        "outputId": "3001996a-6715-4193-da8b-660174a41d1d"
      },
      "source": [
        "train_set.reviewText.describe()"
      ],
      "execution_count": 17,
      "outputs": [
        {
          "output_type": "execute_result",
          "data": {
            "text/plain": [
              "count     200000\n",
              "unique    184940\n",
              "top        great\n",
              "freq         662\n",
              "Name: reviewText, dtype: object"
            ]
          },
          "metadata": {
            "tags": []
          },
          "execution_count": 17
        }
      ]
    },
    {
      "cell_type": "code",
      "metadata": {
        "id": "fb2SMOb1dbyl",
        "colab": {
          "base_uri": "https://localhost:8080/"
        },
        "outputId": "1fcf0de9-651e-4c1d-af86-b08ff86cbbad"
      },
      "source": [
        "train_set.info()"
      ],
      "execution_count": 18,
      "outputs": [
        {
          "output_type": "stream",
          "text": [
            "<class 'pandas.core.frame.DataFrame'>\n",
            "RangeIndex: 200000 entries, 0 to 199999\n",
            "Data columns (total 13 columns):\n",
            " #   Column              Non-Null Count   Dtype  \n",
            "---  ------              --------------   -----  \n",
            " 0   userID-itemID       200000 non-null  object \n",
            " 1   overall             200000 non-null  int64  \n",
            " 2   price               200000 non-null  float64\n",
            " 3   summary             200000 non-null  object \n",
            " 4   category            200000 non-null  object \n",
            " 5   reviewText          200000 non-null  object \n",
            " 6   reviewYear          200000 non-null  int64  \n",
            " 7   unixReviewTime      200000 non-null  float64\n",
            " 8   reviewHash          200000 non-null  int64  \n",
            " 9   Classical           200000 non-null  uint8  \n",
            " 10  Dance & Electronic  200000 non-null  uint8  \n",
            " 11  Jazz                200000 non-null  uint8  \n",
            " 12  Pop                 200000 non-null  uint8  \n",
            "dtypes: float64(2), int64(3), object(4), uint8(4)\n",
            "memory usage: 14.5+ MB\n"
          ],
          "name": "stdout"
        }
      ]
    },
    {
      "cell_type": "code",
      "metadata": {
        "id": "tWHBc55QfjvM",
        "colab": {
          "base_uri": "https://localhost:8080/",
          "height": 382
        },
        "outputId": "6e3145c0-02c4-4838-db26-1f501908dfef"
      },
      "source": [
        "train_set.corr()"
      ],
      "execution_count": 19,
      "outputs": [
        {
          "output_type": "execute_result",
          "data": {
            "text/html": [
              "<div>\n",
              "<style scoped>\n",
              "    .dataframe tbody tr th:only-of-type {\n",
              "        vertical-align: middle;\n",
              "    }\n",
              "\n",
              "    .dataframe tbody tr th {\n",
              "        vertical-align: top;\n",
              "    }\n",
              "\n",
              "    .dataframe thead th {\n",
              "        text-align: right;\n",
              "    }\n",
              "</style>\n",
              "<table border=\"1\" class=\"dataframe\">\n",
              "  <thead>\n",
              "    <tr style=\"text-align: right;\">\n",
              "      <th></th>\n",
              "      <th>overall</th>\n",
              "      <th>price</th>\n",
              "      <th>reviewYear</th>\n",
              "      <th>unixReviewTime</th>\n",
              "      <th>reviewHash</th>\n",
              "      <th>Classical</th>\n",
              "      <th>Dance &amp; Electronic</th>\n",
              "      <th>Jazz</th>\n",
              "      <th>Pop</th>\n",
              "    </tr>\n",
              "  </thead>\n",
              "  <tbody>\n",
              "    <tr>\n",
              "      <th>overall</th>\n",
              "      <td>1.000000</td>\n",
              "      <td>0.038009</td>\n",
              "      <td>0.153167</td>\n",
              "      <td>0.148225</td>\n",
              "      <td>0.004677</td>\n",
              "      <td>0.036568</td>\n",
              "      <td>0.001006</td>\n",
              "      <td>0.045631</td>\n",
              "      <td>0.017476</td>\n",
              "    </tr>\n",
              "    <tr>\n",
              "      <th>price</th>\n",
              "      <td>0.038009</td>\n",
              "      <td>1.000000</td>\n",
              "      <td>0.119610</td>\n",
              "      <td>0.119640</td>\n",
              "      <td>-0.002037</td>\n",
              "      <td>0.083865</td>\n",
              "      <td>-0.024889</td>\n",
              "      <td>0.039495</td>\n",
              "      <td>-0.008746</td>\n",
              "    </tr>\n",
              "    <tr>\n",
              "      <th>reviewYear</th>\n",
              "      <td>0.153167</td>\n",
              "      <td>0.119610</td>\n",
              "      <td>1.000000</td>\n",
              "      <td>0.996909</td>\n",
              "      <td>-0.002055</td>\n",
              "      <td>0.029953</td>\n",
              "      <td>-0.074997</td>\n",
              "      <td>0.070169</td>\n",
              "      <td>0.212449</td>\n",
              "    </tr>\n",
              "    <tr>\n",
              "      <th>unixReviewTime</th>\n",
              "      <td>0.148225</td>\n",
              "      <td>0.119640</td>\n",
              "      <td>0.996909</td>\n",
              "      <td>1.000000</td>\n",
              "      <td>-0.001903</td>\n",
              "      <td>0.031867</td>\n",
              "      <td>-0.076891</td>\n",
              "      <td>0.069297</td>\n",
              "      <td>0.211495</td>\n",
              "    </tr>\n",
              "    <tr>\n",
              "      <th>reviewHash</th>\n",
              "      <td>0.004677</td>\n",
              "      <td>-0.002037</td>\n",
              "      <td>-0.002055</td>\n",
              "      <td>-0.001903</td>\n",
              "      <td>1.000000</td>\n",
              "      <td>-0.000096</td>\n",
              "      <td>-0.000486</td>\n",
              "      <td>0.001597</td>\n",
              "      <td>-0.001168</td>\n",
              "    </tr>\n",
              "    <tr>\n",
              "      <th>Classical</th>\n",
              "      <td>0.036568</td>\n",
              "      <td>0.083865</td>\n",
              "      <td>0.029953</td>\n",
              "      <td>0.031867</td>\n",
              "      <td>-0.000096</td>\n",
              "      <td>1.000000</td>\n",
              "      <td>-0.083394</td>\n",
              "      <td>-0.106902</td>\n",
              "      <td>-0.297996</td>\n",
              "    </tr>\n",
              "    <tr>\n",
              "      <th>Dance &amp; Electronic</th>\n",
              "      <td>0.001006</td>\n",
              "      <td>-0.024889</td>\n",
              "      <td>-0.074997</td>\n",
              "      <td>-0.076891</td>\n",
              "      <td>-0.000486</td>\n",
              "      <td>-0.083394</td>\n",
              "      <td>1.000000</td>\n",
              "      <td>-0.085649</td>\n",
              "      <td>-0.238751</td>\n",
              "    </tr>\n",
              "    <tr>\n",
              "      <th>Jazz</th>\n",
              "      <td>0.045631</td>\n",
              "      <td>0.039495</td>\n",
              "      <td>0.070169</td>\n",
              "      <td>0.069297</td>\n",
              "      <td>0.001597</td>\n",
              "      <td>-0.106902</td>\n",
              "      <td>-0.085649</td>\n",
              "      <td>1.000000</td>\n",
              "      <td>-0.306052</td>\n",
              "    </tr>\n",
              "    <tr>\n",
              "      <th>Pop</th>\n",
              "      <td>0.017476</td>\n",
              "      <td>-0.008746</td>\n",
              "      <td>0.212449</td>\n",
              "      <td>0.211495</td>\n",
              "      <td>-0.001168</td>\n",
              "      <td>-0.297996</td>\n",
              "      <td>-0.238751</td>\n",
              "      <td>-0.306052</td>\n",
              "      <td>1.000000</td>\n",
              "    </tr>\n",
              "  </tbody>\n",
              "</table>\n",
              "</div>"
            ],
            "text/plain": [
              "                     overall     price  ...      Jazz       Pop\n",
              "overall             1.000000  0.038009  ...  0.045631  0.017476\n",
              "price               0.038009  1.000000  ...  0.039495 -0.008746\n",
              "reviewYear          0.153167  0.119610  ...  0.070169  0.212449\n",
              "unixReviewTime      0.148225  0.119640  ...  0.069297  0.211495\n",
              "reviewHash          0.004677 -0.002037  ...  0.001597 -0.001168\n",
              "Classical           0.036568  0.083865  ... -0.106902 -0.297996\n",
              "Dance & Electronic  0.001006 -0.024889  ... -0.085649 -0.238751\n",
              "Jazz                0.045631  0.039495  ...  1.000000 -0.306052\n",
              "Pop                 0.017476 -0.008746  ... -0.306052  1.000000\n",
              "\n",
              "[9 rows x 9 columns]"
            ]
          },
          "metadata": {
            "tags": []
          },
          "execution_count": 19
        }
      ]
    },
    {
      "cell_type": "code",
      "metadata": {
        "id": "UTI-QS3a1KSS"
      },
      "source": [
        "#Did not use these columns for final model, scaled the values when used\n",
        "\n",
        "#from sklearn.preprocessing import StandardScaler\n",
        "#sc = StandardScaler()"
      ],
      "execution_count": null,
      "outputs": []
    },
    {
      "cell_type": "code",
      "metadata": {
        "id": "jM48yxmd5z9b"
      },
      "source": [
        "#train_set['summary_cnt'] = sc.fit_transform(train_set[['summary_cnt']])\n",
        "#train_set['review_cnt'] = sc.fit_transform(train_set[['review_cnt']])\n",
        "#train_set['summary_words'] = sc.fit_transform(train_set[['summary_words']])\n",
        "#train_set['review_words'] = sc.fit_transform(train_set[['review_words']])\n",
        "#train_set['summary_chr_per_wrd'] = sc.fit_transform(train_set[['summary_chr_per_wrd']])\n",
        "#train_set['review_chr_per_wrd'] = sc.fit_transform(train_set[['review_chr_per_wrd']])\n",
        "#train_set['summary_num'] = sc.fit_transform(train_set[['summary_num']])\n",
        "#train_set['review_num'] = sc.fit_transform(train_set[['review_num']])"
      ],
      "execution_count": null,
      "outputs": []
    },
    {
      "cell_type": "code",
      "metadata": {
        "colab": {
          "base_uri": "https://localhost:8080/",
          "height": 402
        },
        "id": "N4iprBq27iKq",
        "outputId": "1e7e4fca-0da3-42c3-dd97-16bf7b350871"
      },
      "source": [
        "#correlation heat map for features \n",
        "plt.figure(figsize = (5, 5))\n",
        "sns.heatmap(train_set.corr() ,vmax=.8, square=True)"
      ],
      "execution_count": 22,
      "outputs": [
        {
          "output_type": "execute_result",
          "data": {
            "text/plain": [
              "<matplotlib.axes._subplots.AxesSubplot at 0x7ff6c6cac080>"
            ]
          },
          "metadata": {
            "tags": []
          },
          "execution_count": 22
        },
        {
          "output_type": "display_data",
          "data": {
            "image/png": "[encoded data removed]",
            "text/plain": [
              "<Figure size 360x360 with 2 Axes>"
            ]
          },
          "metadata": {
            "tags": [],
            "needs_background": "light"
          }
        }
      ]
    },
    {
      "cell_type": "code",
      "metadata": {
        "id": "w2v-H3hF9H0r"
      },
      "source": [
        "#Splitting the features and label\n",
        "\n",
        "#X = train_set[['price','summary', 'reviewText', 'reviewYear', 'unixReviewTime' ,'Classical','Dance & Electronic','Jazz','Pop', 'reviewHash', 'summary_cnt', 'review_cnt', 'summary_words', 'review_cnt', 'summary_words', 'review_words', 'summary_chr_per_wrd', 'review_chr_per_wrd', 'summary_num', 'review_num']]\n",
        "X = train_set[['price','summary', 'reviewText', 'reviewYear', 'unixReviewTime' ,'Classical','Dance & Electronic','Jazz','Pop']]\n",
        "\n",
        "y = train_set[['overall']]"
      ],
      "execution_count": 23,
      "outputs": []
    },
    {
      "cell_type": "code",
      "metadata": {
        "id": "Gl2WHbEQ9H0r"
      },
      "source": [
        "#train test split of 20% test 80% train\n",
        "X_train, X_test, y_train, y_test = train_test_split(X,y,test_size = 0.2)"
      ],
      "execution_count": 24,
      "outputs": []
    },
    {
      "cell_type": "code",
      "metadata": {
        "id": "bsLTMCiV9H0r"
      },
      "source": [
        "# Import FunctionTransformer\n",
        "from sklearn.preprocessing import FunctionTransformer\n",
        "\n",
        "# Obtain the text data: get_text_data\n",
        "get_reviewtext_data = FunctionTransformer(lambda x: x['reviewText'], validate=False)\n",
        "\n",
        "get_summary_data = FunctionTransformer(lambda x: x['summary'], validate=False)\n",
        "\n",
        "# Obtain the numeric data: get_numeric_data\n",
        "#get_numeric_data = FunctionTransformer(lambda x: x[['price', 'reviewYear', 'unixReviewTime', 'Classical','Dance & Electronic','Jazz','Pop', 'reviewHash', 'summary_cnt', 'review_cnt', 'summary_words', 'review_cnt', 'summary_words', 'review_words', 'summary_chr_per_wrd', 'review_chr_per_wrd', 'summary_num', 'review_num']], validate=False)\n",
        "get_numeric_data = FunctionTransformer(lambda x: x[['price', 'reviewYear', 'unixReviewTime', 'Classical','Dance & Electronic','Jazz','Pop']], validate=False)\n"
      ],
      "execution_count": 25,
      "outputs": []
    },
    {
      "cell_type": "code",
      "metadata": {
        "id": "QTkiOQLT9H0r"
      },
      "source": [
        "from sklearn.tree import DecisionTreeRegressor \n",
        "from sklearn.ensemble import RandomForestRegressor\n",
        "from sklearn.linear_model import LinearRegression\n",
        "from sklearn.model_selection import cross_val_score\n",
        "from sklearn.linear_model import Ridge\n",
        "from sklearn.metrics import mean_squared_error\n",
        "from sklearn.feature_extraction.text import TfidfVectorizer \n",
        "from sklearn.model_selection import GridSearchCV\n",
        "from sklearn.neighbors import KNeighborsRegressor\n",
        "from sklearn.linear_model import ElasticNet"
      ],
      "execution_count": 26,
      "outputs": []
    },
    {
      "cell_type": "code",
      "metadata": {
        "id": "KNlsLsBl9H0r"
      },
      "source": [
        "#union of numeric and text features for our pipeline with TfidfVectorizer for text features\n",
        "process_and_join_features = FeatureUnion(\n",
        "            transformer_list = [\n",
        "                ('numeric_features', Pipeline([\n",
        "                    ('selector', get_numeric_data)                                     \n",
        "                ])),\n",
        "                ('text_features', Pipeline([\n",
        "                    ('selector', get_reviewtext_data),\n",
        "                    ('vectorizer', TfidfVectorizer(ngram_range=(1,2)))\n",
        "                ])),\n",
        "                ('text_features2', Pipeline([\n",
        "                    ('selector', get_summary_data),\n",
        "                    ('vectorizer', TfidfVectorizer(ngram_range=(1,2)))\n",
        "                ]))\n",
        "             ]\n",
        "        )"
      ],
      "execution_count": 27,
      "outputs": []
    },
    {
      "cell_type": "code",
      "metadata": {
        "id": "mP5b9fYQ9H0r"
      },
      "source": [
        "#the pipeline\n",
        "pl = Pipeline([\n",
        "        ('union', process_and_join_features),\n",
        "        ('clf', Ridge())\n",
        "    ])"
      ],
      "execution_count": 28,
      "outputs": []
    },
    {
      "cell_type": "code",
      "metadata": {
        "id": "tMIswhCV9H0r"
      },
      "source": [
        "#Ridge parameters\n",
        "\n",
        "#l1_space = np.linspace(0, 1, 5)\n",
        "#parameters = {'clf__l1_ratio': l1_space}"
      ],
      "execution_count": null,
      "outputs": []
    },
    {
      "cell_type": "code",
      "metadata": {
        "colab": {
          "base_uri": "https://localhost:8080/"
        },
        "id": "9Hchb1f73dNc",
        "outputId": "fc5034ca-28a6-47d1-d3ad-7b1022e9c91d"
      },
      "source": [
        "#from sklearn.model_selection import GridSearchCV\n",
        "\n",
        "#param= { 'clf__alpha' : [0.01, 0.1, 1,10] }\n",
        "\n",
        "#cv = GridSearchCV(pl, param_grid = param)\n",
        "\n",
        "#cv.fit(X, y)"
      ],
      "execution_count": null,
      "outputs": [
        {
          "output_type": "execute_result",
          "data": {
            "text/plain": [
              "GridSearchCV(cv=None, error_score=nan,\n",
              "             estimator=Pipeline(memory=None,\n",
              "                                steps=[('union',\n",
              "                                        FeatureUnion(n_jobs=None,\n",
              "                                                     transformer_list=[('numeric_features',\n",
              "                                                                        Pipeline(memory=None,\n",
              "                                                                                 steps=[('selector',\n",
              "                                                                                         FunctionTransformer(accept_sparse=False,\n",
              "                                                                                                             check_inverse=True,\n",
              "                                                                                                             func=<function <lambda> at 0x7fd23b7abea0>,\n",
              "                                                                                                             inv_kw_args=None,\n",
              "                                                                                                             inverse_func=None,\n",
              "                                                                                                             kw_args=None,\n",
              "                                                                                                             validate=False))...\n",
              "                                                                                 verbose=False))],\n",
              "                                                     transformer_weights=None,\n",
              "                                                     verbose=False)),\n",
              "                                       ('clf',\n",
              "                                        Ridge(alpha=1.0, copy_X=True,\n",
              "                                              fit_intercept=True, max_iter=None,\n",
              "                                              normalize=False,\n",
              "                                              random_state=None, solver='auto',\n",
              "                                              tol=0.001))],\n",
              "                                verbose=False),\n",
              "             iid='deprecated', n_jobs=None,\n",
              "             param_grid={'clf__alpha': [0.01, 0.1, 1, 10]},\n",
              "             pre_dispatch='2*n_jobs', refit=True, return_train_score=False,\n",
              "             scoring=None, verbose=0)"
            ]
          },
          "metadata": {
            "tags": []
          },
          "execution_count": 28
        }
      ]
    },
    {
      "cell_type": "code",
      "metadata": {
        "colab": {
          "base_uri": "https://localhost:8080/"
        },
        "id": "EDVmFbf751X0",
        "outputId": "2873c15f-88b6-4c7b-c050-a7dd7c7422c9"
      },
      "source": [
        "#print(\"Tuned Ridge Parameters: {}\".format(cv.best_params_)) "
      ],
      "execution_count": null,
      "outputs": [
        {
          "output_type": "stream",
          "text": [
            "Tuned Ridge Parameters: {'clf__alpha': 1}\n"
          ],
          "name": "stdout"
        }
      ]
    },
    {
      "cell_type": "code",
      "metadata": {
        "colab": {
          "base_uri": "https://localhost:8080/"
        },
        "id": "0VaYJqPd6pw7",
        "outputId": "a485a004-5ea6-4baf-fc9c-04b3c2220223"
      },
      "source": [
        "#print(\"Best score is {}\".format(cv.best_score_))"
      ],
      "execution_count": null,
      "outputs": [
        {
          "output_type": "stream",
          "text": [
            "Best score is 0.41482500629785707\n"
          ],
          "name": "stdout"
        }
      ]
    },
    {
      "cell_type": "code",
      "metadata": {
        "id": "V17IzTvA0e4a"
      },
      "source": [
        "#cv = cross_val_score(pl, X, y, cv = 10)"
      ],
      "execution_count": null,
      "outputs": []
    },
    {
      "cell_type": "code",
      "metadata": {
        "colab": {
          "base_uri": "https://localhost:8080/"
        },
        "id": "nNSeYvsz01a_",
        "outputId": "baf8ed96-56d6-42a9-98a5-143270ecfbea"
      },
      "source": [
        "#cv.mean()"
      ],
      "execution_count": null,
      "outputs": [
        {
          "output_type": "execute_result",
          "data": {
            "text/plain": [
              "0.5768451688698882"
            ]
          },
          "metadata": {
            "tags": []
          },
          "execution_count": 152
        }
      ]
    },
    {
      "cell_type": "code",
      "metadata": {
        "id": "FLl71lT29H0r"
      },
      "source": [
        "#y_train_regressor = y_train.values.ravel() "
      ],
      "execution_count": null,
      "outputs": []
    },
    {
      "cell_type": "code",
      "metadata": {
        "colab": {
          "base_uri": "https://localhost:8080/"
        },
        "id": "9623OIh_efsx",
        "outputId": "b9a0c0a9-3582-429e-e4d2-9be6bf99f691"
      },
      "source": [
        "X_train.info()"
      ],
      "execution_count": 29,
      "outputs": [
        {
          "output_type": "stream",
          "text": [
            "<class 'pandas.core.frame.DataFrame'>\n",
            "Int64Index: 160000 entries, 102941 to 183457\n",
            "Data columns (total 9 columns):\n",
            " #   Column              Non-Null Count   Dtype  \n",
            "---  ------              --------------   -----  \n",
            " 0   price               160000 non-null  float64\n",
            " 1   summary             160000 non-null  object \n",
            " 2   reviewText          160000 non-null  object \n",
            " 3   reviewYear          160000 non-null  int64  \n",
            " 4   unixReviewTime      160000 non-null  float64\n",
            " 5   Classical           160000 non-null  uint8  \n",
            " 6   Dance & Electronic  160000 non-null  uint8  \n",
            " 7   Jazz                160000 non-null  uint8  \n",
            " 8   Pop                 160000 non-null  uint8  \n",
            "dtypes: float64(2), int64(1), object(2), uint8(4)\n",
            "memory usage: 7.9+ MB\n"
          ],
          "name": "stdout"
        }
      ]
    },
    {
      "cell_type": "code",
      "metadata": {
        "colab": {
          "base_uri": "https://localhost:8080/"
        },
        "id": "vDGk54sS9H0r",
        "outputId": "140e43f2-2187-49e7-ae1a-5a032a1d6df4"
      },
      "source": [
        "#fit the pipeline\n",
        "pl.fit(X_train, y_train)"
      ],
      "execution_count": 30,
      "outputs": [
        {
          "output_type": "execute_result",
          "data": {
            "text/plain": [
              "Pipeline(memory=None,\n",
              "         steps=[('union',\n",
              "                 FeatureUnion(n_jobs=None,\n",
              "                              transformer_list=[('numeric_features',\n",
              "                                                 Pipeline(memory=None,\n",
              "                                                          steps=[('selector',\n",
              "                                                                  FunctionTransformer(accept_sparse=False,\n",
              "                                                                                      check_inverse=True,\n",
              "                                                                                      func=<function <lambda> at 0x7ff6c0537950>,\n",
              "                                                                                      inv_kw_args=None,\n",
              "                                                                                      inverse_func=None,\n",
              "                                                                                      kw_args=None,\n",
              "                                                                                      validate=False))],\n",
              "                                                          verbose=False)),\n",
              "                                                ('text_features',\n",
              "                                                 Pipeline(mem...\n",
              "                                                                                  smooth_idf=True,\n",
              "                                                                                  stop_words=None,\n",
              "                                                                                  strip_accents=None,\n",
              "                                                                                  sublinear_tf=False,\n",
              "                                                                                  token_pattern='(?u)\\\\b\\\\w\\\\w+\\\\b',\n",
              "                                                                                  tokenizer=None,\n",
              "                                                                                  use_idf=True,\n",
              "                                                                                  vocabulary=None))],\n",
              "                                                          verbose=False))],\n",
              "                              transformer_weights=None, verbose=False)),\n",
              "                ('clf',\n",
              "                 Ridge(alpha=1.0, copy_X=True, fit_intercept=True,\n",
              "                       max_iter=None, normalize=False, random_state=None,\n",
              "                       solver='auto', tol=0.001))],\n",
              "         verbose=False)"
            ]
          },
          "metadata": {
            "tags": []
          },
          "execution_count": 30
        }
      ]
    },
    {
      "cell_type": "code",
      "metadata": {
        "id": "1wvD5n3b9H0r"
      },
      "source": [
        "from sklearn.metrics import mean_squared_error"
      ],
      "execution_count": 31,
      "outputs": []
    },
    {
      "cell_type": "code",
      "metadata": {
        "id": "A9XhaF2B9H0s"
      },
      "source": [
        "#make predictions on test part of train data\n",
        "y_pred =pl.predict(X_test)"
      ],
      "execution_count": 32,
      "outputs": []
    },
    {
      "cell_type": "code",
      "metadata": {
        "colab": {
          "base_uri": "https://localhost:8080/"
        },
        "id": "SDOtZ-B_9H0s",
        "outputId": "33eb2455-05c9-42f5-f3ea-ec267b99559d"
      },
      "source": [
        "#get the mean squared error\n",
        "print(mean_squared_error(y_test,y_pred,squared =True))"
      ],
      "execution_count": 33,
      "outputs": [
        {
          "output_type": "stream",
          "text": [
            "0.42813826675472666\n"
          ],
          "name": "stdout"
        }
      ]
    },
    {
      "cell_type": "code",
      "metadata": {
        "id": "nU56enMcz8AH"
      },
      "source": [
        "#MODEL COMPARISON (with scaled price, unixreview)\n",
        "\n",
        "#Ridge -> 0.4156409682496042\n",
        "#0.42687672511032304\n",
        "\n"
      ],
      "execution_count": null,
      "outputs": []
    },
    {
      "cell_type": "code",
      "metadata": {
        "id": "2oMH0Z2p23C0"
      },
      "source": [
        "#Try Ridge with reviewHash\n",
        "\n",
        "0.427977313762514"
      ],
      "execution_count": null,
      "outputs": []
    },
    {
      "cell_type": "code",
      "metadata": {
        "id": "dpc7Xngf9CMQ"
      },
      "source": [
        "#MODEL COMPARISON (with scaled price, reviewhash, unixreview, text extra num features)\n",
        "\n",
        "#Ridge -> 0.42845148074285155\n",
        "\n",
        "#Logistic Regression -> 1.35775\n",
        "\n",
        "#Lasso -> 0.9980335759765625\n",
        "\n",
        "#Random Forest Regressor -> 0.9068001833403765\n",
        "\n",
        "#SVM SVR -> can't run\n",
        "\n",
        "#Linear Regression -> \n"
      ],
      "execution_count": null,
      "outputs": []
    },
    {
      "cell_type": "code",
      "metadata": {
        "id": "JfNra9yc22CB"
      },
      "source": [
        "#ridge with no extra text features and no extra processing -> 0.42400667434199074\n",
        "\n",
        "#0.4269779562103067????^^^^\n",
        "\n",
        "\n",
        "\n",
        "#ridge with no extra text features or processing, price and unixreviewtime scaled -> 0.42620553419989127\n",
        "\n",
        "#ridge with no extra text features or processing, price, reviewHash and unixreviewtime scaled -> 0.41681973923557\n",
        "\n",
        "\n",
        "#ridge with extra text features but no extra processing -> 0.42185061675527025\n",
        "\n",
        "#0.4266482840462476????^^^^\n",
        "\n",
        "#0.4269494743639818????^^^^\n",
        "\n",
        "#0.4212203777021481\n",
        "\n",
        "#linear regression with extra text features but no extra processing -> 0.46968237919400835\n",
        "\n",
        "\n",
        "#ridge with extra text features + summary processing 1 -> 0.4273054323492646\n",
        "\n",
        "#ridge with extra text features + stemmed reviewtext -> 0.4270899405668326\n"
      ],
      "execution_count": null,
      "outputs": []
    },
    {
      "cell_type": "code",
      "metadata": {
        "id": "-4kR_mHO9H0s"
      },
      "source": [
        "#read test set and apply same data processing\n",
        "test_set = pd.read_json('test.json', lines = True)"
      ],
      "execution_count": 34,
      "outputs": []
    },
    {
      "cell_type": "code",
      "metadata": {
        "id": "2Gk6TcpEm569"
      },
      "source": [
        "test_set['reviewYear'] = test_set['reviewTime'].str.split('\\,').str[-1].str.strip()\n",
        "\n",
        "test_set['reviewYear'] = test_set['reviewYear'].apply(int)"
      ],
      "execution_count": 35,
      "outputs": []
    },
    {
      "cell_type": "code",
      "metadata": {
        "id": "YlIY5MO09H0s"
      },
      "source": [
        "test_set =  test_set[['itemID', 'price', 'reviewerID', 'summary','category','reviewYear', 'unixReviewTime' ,'reviewText']]"
      ],
      "execution_count": 36,
      "outputs": []
    },
    {
      "cell_type": "code",
      "metadata": {
        "id": "XGNgrHz69H0s"
      },
      "source": [
        "def join(record):\n",
        "    return record['reviewerID']+\"-\"+record['itemID']"
      ],
      "execution_count": 37,
      "outputs": []
    },
    {
      "cell_type": "code",
      "metadata": {
        "id": "rXEi5p1N9H0s"
      },
      "source": [
        "test_set['userID-itemID'] = test_set.apply(join,axis =1)"
      ],
      "execution_count": 38,
      "outputs": []
    },
    {
      "cell_type": "code",
      "metadata": {
        "id": "gbMPTRmO9H0s"
      },
      "source": [
        "test_set = test_set[['userID-itemID', 'price','summary','category','reviewYear', 'unixReviewTime', 'reviewText']]"
      ],
      "execution_count": 39,
      "outputs": []
    },
    {
      "cell_type": "code",
      "metadata": {
        "id": "nE_DZzLD9H0s"
      },
      "source": [
        "test_set.price = test_set.price.str.strip('$')\n"
      ],
      "execution_count": 40,
      "outputs": []
    },
    {
      "cell_type": "code",
      "metadata": {
        "id": "vpR9VE8B9H0s"
      },
      "source": [
        "test_set['price'] = pd.to_numeric(test_set['price'], errors='coerce')"
      ],
      "execution_count": 41,
      "outputs": []
    },
    {
      "cell_type": "code",
      "metadata": {
        "id": "uyjiJ7QU9H0s",
        "colab": {
          "base_uri": "https://localhost:8080/"
        },
        "outputId": "7942863d-b2d5-4a43-bb6b-3c2b7cda90b1"
      },
      "source": [
        "test_set.info()"
      ],
      "execution_count": 42,
      "outputs": [
        {
          "output_type": "stream",
          "text": [
            "<class 'pandas.core.frame.DataFrame'>\n",
            "RangeIndex: 10000 entries, 0 to 9999\n",
            "Data columns (total 7 columns):\n",
            " #   Column          Non-Null Count  Dtype  \n",
            "---  ------          --------------  -----  \n",
            " 0   userID-itemID   10000 non-null  object \n",
            " 1   price           9857 non-null   float64\n",
            " 2   summary         9998 non-null   object \n",
            " 3   category        10000 non-null  object \n",
            " 4   reviewYear      10000 non-null  int64  \n",
            " 5   unixReviewTime  10000 non-null  int64  \n",
            " 6   reviewText      9999 non-null   object \n",
            "dtypes: float64(1), int64(2), object(4)\n",
            "memory usage: 547.0+ KB\n"
          ],
          "name": "stdout"
        }
      ]
    },
    {
      "cell_type": "code",
      "metadata": {
        "colab": {
          "base_uri": "https://localhost:8080/"
        },
        "id": "kU0QMpQL9H0s",
        "outputId": "88ade18d-9bcd-42b5-923d-1e9699c6dbd3"
      },
      "source": [
        "#test_set['price'] = pd.to_numeric(test_set['price'], errors='coerce')\n",
        "test_set.info()\n",
        "df2 = pd.get_dummies(test_set['category'],drop_first =True)\n",
        "test_set = pd.concat([test_set, df2],axis = 'columns')\n"
      ],
      "execution_count": 43,
      "outputs": [
        {
          "output_type": "stream",
          "text": [
            "<class 'pandas.core.frame.DataFrame'>\n",
            "RangeIndex: 10000 entries, 0 to 9999\n",
            "Data columns (total 7 columns):\n",
            " #   Column          Non-Null Count  Dtype  \n",
            "---  ------          --------------  -----  \n",
            " 0   userID-itemID   10000 non-null  object \n",
            " 1   price           9857 non-null   float64\n",
            " 2   summary         9998 non-null   object \n",
            " 3   category        10000 non-null  object \n",
            " 4   reviewYear      10000 non-null  int64  \n",
            " 5   unixReviewTime  10000 non-null  int64  \n",
            " 6   reviewText      9999 non-null   object \n",
            "dtypes: float64(1), int64(2), object(4)\n",
            "memory usage: 547.0+ KB\n"
          ],
          "name": "stdout"
        }
      ]
    },
    {
      "cell_type": "code",
      "metadata": {
        "id": "ZYM4rxBv9Ue9"
      },
      "source": [
        "test_set.fillna(method='ffill',inplace =True)"
      ],
      "execution_count": 44,
      "outputs": []
    },
    {
      "cell_type": "code",
      "metadata": {
        "id": "q7VIYYj3sbkD"
      },
      "source": [
        "test_set['price'] = np.log(test_set[['price']])\n",
        "test_set['unixReviewTime'] = np.log(test_set[['unixReviewTime']])"
      ],
      "execution_count": 45,
      "outputs": []
    },
    {
      "cell_type": "code",
      "metadata": {
        "colab": {
          "base_uri": "https://localhost:8080/"
        },
        "id": "ABw12mf09H0s",
        "outputId": "ba6034da-a70c-43e1-bb0c-8dac5ff58ef9"
      },
      "source": [
        "test_set.info()"
      ],
      "execution_count": 46,
      "outputs": [
        {
          "output_type": "stream",
          "text": [
            "<class 'pandas.core.frame.DataFrame'>\n",
            "RangeIndex: 10000 entries, 0 to 9999\n",
            "Data columns (total 11 columns):\n",
            " #   Column              Non-Null Count  Dtype  \n",
            "---  ------              --------------  -----  \n",
            " 0   userID-itemID       10000 non-null  object \n",
            " 1   price               10000 non-null  float64\n",
            " 2   summary             10000 non-null  object \n",
            " 3   category            10000 non-null  object \n",
            " 4   reviewYear          10000 non-null  int64  \n",
            " 5   unixReviewTime      10000 non-null  float64\n",
            " 6   reviewText          10000 non-null  object \n",
            " 7   Classical           10000 non-null  uint8  \n",
            " 8   Dance & Electronic  10000 non-null  uint8  \n",
            " 9   Jazz                10000 non-null  uint8  \n",
            " 10  Pop                 10000 non-null  uint8  \n",
            "dtypes: float64(2), int64(1), object(4), uint8(4)\n",
            "memory usage: 586.1+ KB\n"
          ],
          "name": "stdout"
        }
      ]
    },
    {
      "cell_type": "code",
      "metadata": {
        "id": "v9YdNInaDqO_"
      },
      "source": [
        "import html \n",
        "\n",
        "test_set['summary'] = test_set['summary'].fillna('').apply(html.unescape)\n",
        "test_set['reviewText'] = test_set['reviewText'].fillna('').apply(html.unescape)"
      ],
      "execution_count": 47,
      "outputs": []
    },
    {
      "cell_type": "code",
      "metadata": {
        "id": "jN2YeIBPDwuD"
      },
      "source": [
        "import re as re\n",
        "def remove_tags(string):\n",
        "    result = re.sub('<.*?>','',string)\n",
        "    result = re.sub('\\n', '', result)\n",
        "    return result\n",
        "test_set['reviewText']=test_set['reviewText'].apply(lambda cw : remove_tags(cw))"
      ],
      "execution_count": 48,
      "outputs": []
    },
    {
      "cell_type": "code",
      "metadata": {
        "colab": {
          "base_uri": "https://localhost:8080/"
        },
        "id": "eKgYtcvp9H0t",
        "outputId": "41e67da2-ef53-4f06-82f6-becbecd99ff6"
      },
      "source": [
        "test_set.info()"
      ],
      "execution_count": 49,
      "outputs": [
        {
          "output_type": "stream",
          "text": [
            "<class 'pandas.core.frame.DataFrame'>\n",
            "RangeIndex: 10000 entries, 0 to 9999\n",
            "Data columns (total 11 columns):\n",
            " #   Column              Non-Null Count  Dtype  \n",
            "---  ------              --------------  -----  \n",
            " 0   userID-itemID       10000 non-null  object \n",
            " 1   price               10000 non-null  float64\n",
            " 2   summary             10000 non-null  object \n",
            " 3   category            10000 non-null  object \n",
            " 4   reviewYear          10000 non-null  int64  \n",
            " 5   unixReviewTime      10000 non-null  float64\n",
            " 6   reviewText          10000 non-null  object \n",
            " 7   Classical           10000 non-null  uint8  \n",
            " 8   Dance & Electronic  10000 non-null  uint8  \n",
            " 9   Jazz                10000 non-null  uint8  \n",
            " 10  Pop                 10000 non-null  uint8  \n",
            "dtypes: float64(2), int64(1), object(4), uint8(4)\n",
            "memory usage: 586.1+ KB\n"
          ],
          "name": "stdout"
        }
      ]
    },
    {
      "cell_type": "code",
      "metadata": {
        "id": "B7f5jy80zj_u"
      },
      "source": [
        "X_test_set = test_set[['price','summary', 'reviewText', 'reviewYear', 'unixReviewTime', 'Classical','Dance & Electronic','Jazz','Pop']]"
      ],
      "execution_count": 50,
      "outputs": []
    },
    {
      "cell_type": "code",
      "metadata": {
        "colab": {
          "base_uri": "https://localhost:8080/"
        },
        "id": "sKtICc2tA4g1",
        "outputId": "96100550-405f-41f5-c639-c78816ed4831"
      },
      "source": [
        "X_test_set.info()"
      ],
      "execution_count": 51,
      "outputs": [
        {
          "output_type": "stream",
          "text": [
            "<class 'pandas.core.frame.DataFrame'>\n",
            "RangeIndex: 10000 entries, 0 to 9999\n",
            "Data columns (total 9 columns):\n",
            " #   Column              Non-Null Count  Dtype  \n",
            "---  ------              --------------  -----  \n",
            " 0   price               10000 non-null  float64\n",
            " 1   summary             10000 non-null  object \n",
            " 2   reviewText          10000 non-null  object \n",
            " 3   reviewYear          10000 non-null  int64  \n",
            " 4   unixReviewTime      10000 non-null  float64\n",
            " 5   Classical           10000 non-null  uint8  \n",
            " 6   Dance & Electronic  10000 non-null  uint8  \n",
            " 7   Jazz                10000 non-null  uint8  \n",
            " 8   Pop                 10000 non-null  uint8  \n",
            "dtypes: float64(2), int64(1), object(2), uint8(4)\n",
            "memory usage: 429.8+ KB\n"
          ],
          "name": "stdout"
        }
      ]
    },
    {
      "cell_type": "code",
      "metadata": {
        "id": "zRgTrUpA7FLD"
      },
      "source": [
        "#predict on unseen test data\n",
        "test_pred = pl.predict(X_test_set)"
      ],
      "execution_count": null,
      "outputs": []
    },
    {
      "cell_type": "code",
      "metadata": {
        "id": "EWkhjBiM7OYB"
      },
      "source": [
        "test_pred"
      ],
      "execution_count": null,
      "outputs": []
    },
    {
      "cell_type": "code",
      "metadata": {
        "id": "ym2zK2tD7PhQ"
      },
      "source": [
        "#reset index in test data \n",
        "test_set.reset_index(inplace = True)"
      ],
      "execution_count": null,
      "outputs": []
    },
    {
      "cell_type": "code",
      "metadata": {
        "id": "TMRUs_6d7SML"
      },
      "source": [
        "#get the list of userid-itemid\n",
        "Final = test_set[['userID-itemID']]"
      ],
      "execution_count": null,
      "outputs": []
    },
    {
      "cell_type": "code",
      "metadata": {
        "id": "YQjUBkvm7SJa"
      },
      "source": [
        "#make a column of the predictions\n",
        "Final['prediction'] = test_pred"
      ],
      "execution_count": null,
      "outputs": []
    },
    {
      "cell_type": "code",
      "metadata": {
        "id": "J_r_fOuv7SGV"
      },
      "source": [
        "#set userid-itemid as index\n",
        "Final.set_index('userID-itemID')"
      ],
      "execution_count": null,
      "outputs": []
    },
    {
      "cell_type": "code",
      "metadata": {
        "id": "kVsQPbL27c68"
      },
      "source": [
        "#output rating prediction pairs as csv\n",
        "Final.to_csv('rating_predictions.csv')"
      ],
      "execution_count": null,
      "outputs": []
    }
  ]
}